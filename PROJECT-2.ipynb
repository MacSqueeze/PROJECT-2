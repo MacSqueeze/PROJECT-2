{
  "cells": [
    {
      "attachments": {},
      "cell_type": "markdown",
      "id": "42289889-bd57-434e-9637-d3e354756316",
      "metadata": {
        "id": "42289889-bd57-434e-9637-d3e354756316"
      },
      "source": [
        "<center> <img src = https://raw.githubusercontent.com/AndreyRysistov/DatasetsForPandas/main/hh%20label.jpg alt=\"drawing\" style=\"width:400px;\">"
      ]
    },
    {
      "attachments": {},
      "cell_type": "markdown",
      "id": "829cb75b-f14e-4ba8-9195-7ba929a7d656",
      "metadata": {
        "id": "829cb75b-f14e-4ba8-9195-7ba929a7d656",
        "tags": []
      },
      "source": [
        "# <center> Проект: Анализ вакансий из HeadHunter\n",
        "   "
      ]
    },
    {
      "cell_type": "code",
      "execution_count": 1,
      "id": "dccfde33-2452-43fb-a8a5-5c6ebc02a71d",
      "metadata": {
        "id": "dccfde33-2452-43fb-a8a5-5c6ebc02a71d"
      },
      "outputs": [],
      "source": [
        "import pandas as pd\n",
        "import psycopg2\n",
        "import warnings\n",
        "from collections import Counter\n",
        "warnings.filterwarnings(\"ignore\")"
      ]
    },
    {
      "cell_type": "code",
      "execution_count": 60,
      "id": "oVKH4ehvf8Ay",
      "metadata": {
        "id": "oVKH4ehvf8Ay"
      },
      "outputs": [
        {
          "data": {
            "text/plain": [
              "'DBNAME = \\nUSER = \\nPASSWORD = \\nHOST = \\nPORT = '"
            ]
          },
          "execution_count": 60,
          "metadata": {},
          "output_type": "execute_result"
        }
      ],
      "source": [
        "# Данные для связи с сервером\n",
        "'''DBNAME = \n",
        "USER = \n",
        "PASSWORD = \n",
        "HOST = \n",
        "PORT = '''"
      ]
    },
    {
      "cell_type": "code",
      "execution_count": 3,
      "id": "G4X_q8KBf7SF",
      "metadata": {
        "id": "G4X_q8KBf7SF"
      },
      "outputs": [],
      "source": [
        "connection = psycopg2.connect(\n",
        "    dbname=DBNAME,\n",
        "    user=USER,\n",
        "    host=HOST,\n",
        "    password=PASSWORD,\n",
        "    port=PORT\n",
        ")"
      ]
    },
    {
      "attachments": {},
      "cell_type": "markdown",
      "id": "0dc6476b-7a00-44f1-ac93-6e3baed33a29",
      "metadata": {
        "id": "0dc6476b-7a00-44f1-ac93-6e3baed33a29"
      },
      "source": [
        "# Юнит 3. Предварительный анализ данных"
      ]
    },
    {
      "attachments": {},
      "cell_type": "markdown",
      "id": "889782b6-8d1c-410e-8920-e57f27917c64",
      "metadata": {
        "id": "889782b6-8d1c-410e-8920-e57f27917c64"
      },
      "source": [
        "1. Напишите запрос, который посчитает количество вакансий в нашей базе (вакансии находятся в таблице vacancies). "
      ]
    },
    {
      "cell_type": "code",
      "execution_count": 4,
      "id": "bc39e68e-ed02-4ee2-9235-7258a2f867a8",
      "metadata": {
        "id": "bc39e68e-ed02-4ee2-9235-7258a2f867a8"
      },
      "outputs": [],
      "source": [
        "# текст запроса\n",
        "query_3_1 = f'''select count(*) \"Количество вакансий\"\n",
        "                from public.vacancies\n",
        "'''"
      ]
    },
    {
      "cell_type": "code",
      "execution_count": 5,
      "id": "7mAwtsk4hEHY",
      "metadata": {
        "id": "7mAwtsk4hEHY"
      },
      "outputs": [
        {
          "data": {
            "text/html": [
              "<div>\n",
              "<style scoped>\n",
              "    .dataframe tbody tr th:only-of-type {\n",
              "        vertical-align: middle;\n",
              "    }\n",
              "\n",
              "    .dataframe tbody tr th {\n",
              "        vertical-align: top;\n",
              "    }\n",
              "\n",
              "    .dataframe thead th {\n",
              "        text-align: right;\n",
              "    }\n",
              "</style>\n",
              "<table border=\"1\" class=\"dataframe\">\n",
              "  <thead>\n",
              "    <tr style=\"text-align: right;\">\n",
              "      <th></th>\n",
              "      <th>Количество вакансий</th>\n",
              "    </tr>\n",
              "  </thead>\n",
              "  <tbody>\n",
              "    <tr>\n",
              "      <th>0</th>\n",
              "      <td>49197</td>\n",
              "    </tr>\n",
              "  </tbody>\n",
              "</table>\n",
              "</div>"
            ],
            "text/plain": [
              "   Количество вакансий\n",
              "0                49197"
            ]
          },
          "execution_count": 5,
          "metadata": {},
          "output_type": "execute_result"
        }
      ],
      "source": [
        "# результат запроса\n",
        "df = pd.read_sql_query(query_3_1, connection)\n",
        "df"
      ]
    },
    {
      "attachments": {},
      "cell_type": "markdown",
      "id": "b583485d-1f9e-494e-ada4-80ffff7c53d6",
      "metadata": {
        "id": "b583485d-1f9e-494e-ada4-80ffff7c53d6"
      },
      "source": [
        "2. Напишите запрос, который посчитает количество работодателей (таблица employers). "
      ]
    },
    {
      "cell_type": "code",
      "execution_count": 6,
      "id": "5408c52c-3407-4a63-b25b-1aafa2322d28",
      "metadata": {
        "id": "5408c52c-3407-4a63-b25b-1aafa2322d28"
      },
      "outputs": [],
      "source": [
        "# текст запроса\n",
        "query_3_2 = f'''select count(*) \"Количество работодателей\"\n",
        "                from public.employers\n",
        "'''"
      ]
    },
    {
      "cell_type": "code",
      "execution_count": 7,
      "id": "jVL4eshKhdqc",
      "metadata": {
        "id": "jVL4eshKhdqc"
      },
      "outputs": [
        {
          "data": {
            "text/html": [
              "<div>\n",
              "<style scoped>\n",
              "    .dataframe tbody tr th:only-of-type {\n",
              "        vertical-align: middle;\n",
              "    }\n",
              "\n",
              "    .dataframe tbody tr th {\n",
              "        vertical-align: top;\n",
              "    }\n",
              "\n",
              "    .dataframe thead th {\n",
              "        text-align: right;\n",
              "    }\n",
              "</style>\n",
              "<table border=\"1\" class=\"dataframe\">\n",
              "  <thead>\n",
              "    <tr style=\"text-align: right;\">\n",
              "      <th></th>\n",
              "      <th>Количество работодателей</th>\n",
              "    </tr>\n",
              "  </thead>\n",
              "  <tbody>\n",
              "    <tr>\n",
              "      <th>0</th>\n",
              "      <td>23501</td>\n",
              "    </tr>\n",
              "  </tbody>\n",
              "</table>\n",
              "</div>"
            ],
            "text/plain": [
              "   Количество работодателей\n",
              "0                     23501"
            ]
          },
          "execution_count": 7,
          "metadata": {},
          "output_type": "execute_result"
        }
      ],
      "source": [
        "# результат запроса\n",
        "df = pd.read_sql_query(query_3_2, connection)\n",
        "df"
      ]
    },
    {
      "attachments": {},
      "cell_type": "markdown",
      "id": "a2bfff1f-c975-4bf6-84be-2185d79dcb76",
      "metadata": {
        "id": "a2bfff1f-c975-4bf6-84be-2185d79dcb76"
      },
      "source": [
        "3. Посчитате с помощью запроса количество регионов (таблица areas)."
      ]
    },
    {
      "cell_type": "code",
      "execution_count": 8,
      "id": "1m8QJwBYhey6",
      "metadata": {
        "id": "1m8QJwBYhey6"
      },
      "outputs": [],
      "source": [
        "# текст запроса\n",
        "query_3_3 = f'''select count(*) \"Количество регионов\"\n",
        "                from public.areas\n",
        "'''"
      ]
    },
    {
      "cell_type": "code",
      "execution_count": 9,
      "id": "EZsn9tlfhe7f",
      "metadata": {
        "id": "EZsn9tlfhe7f"
      },
      "outputs": [
        {
          "data": {
            "text/html": [
              "<div>\n",
              "<style scoped>\n",
              "    .dataframe tbody tr th:only-of-type {\n",
              "        vertical-align: middle;\n",
              "    }\n",
              "\n",
              "    .dataframe tbody tr th {\n",
              "        vertical-align: top;\n",
              "    }\n",
              "\n",
              "    .dataframe thead th {\n",
              "        text-align: right;\n",
              "    }\n",
              "</style>\n",
              "<table border=\"1\" class=\"dataframe\">\n",
              "  <thead>\n",
              "    <tr style=\"text-align: right;\">\n",
              "      <th></th>\n",
              "      <th>Количество регионов</th>\n",
              "    </tr>\n",
              "  </thead>\n",
              "  <tbody>\n",
              "    <tr>\n",
              "      <th>0</th>\n",
              "      <td>1362</td>\n",
              "    </tr>\n",
              "  </tbody>\n",
              "</table>\n",
              "</div>"
            ],
            "text/plain": [
              "   Количество регионов\n",
              "0                 1362"
            ]
          },
          "execution_count": 9,
          "metadata": {},
          "output_type": "execute_result"
        }
      ],
      "source": [
        "# результат запроса\n",
        "df = pd.read_sql_query(query_3_3, connection)\n",
        "df"
      ]
    },
    {
      "attachments": {},
      "cell_type": "markdown",
      "id": "41bb59f3-53cc-4a67-a5bc-bedf573955e4",
      "metadata": {
        "id": "41bb59f3-53cc-4a67-a5bc-bedf573955e4"
      },
      "source": [
        "4. Посчитате с помощью запроса количество сфер деятельности в базе (таблица industries)."
      ]
    },
    {
      "cell_type": "code",
      "execution_count": 10,
      "id": "d286cf4c-707b-4cd2-9190-7ab3587d04a1",
      "metadata": {
        "id": "d286cf4c-707b-4cd2-9190-7ab3587d04a1"
      },
      "outputs": [],
      "source": [
        "# текст запроса\n",
        "query_3_4 = f'''select count(*) \"Количество сфер деятельности\"\n",
        "                from public.industries\n",
        "'''"
      ]
    },
    {
      "cell_type": "code",
      "execution_count": 11,
      "id": "JYAaoZ4qhfzW",
      "metadata": {
        "id": "JYAaoZ4qhfzW"
      },
      "outputs": [
        {
          "data": {
            "text/html": [
              "<div>\n",
              "<style scoped>\n",
              "    .dataframe tbody tr th:only-of-type {\n",
              "        vertical-align: middle;\n",
              "    }\n",
              "\n",
              "    .dataframe tbody tr th {\n",
              "        vertical-align: top;\n",
              "    }\n",
              "\n",
              "    .dataframe thead th {\n",
              "        text-align: right;\n",
              "    }\n",
              "</style>\n",
              "<table border=\"1\" class=\"dataframe\">\n",
              "  <thead>\n",
              "    <tr style=\"text-align: right;\">\n",
              "      <th></th>\n",
              "      <th>Количество сфер деятельности</th>\n",
              "    </tr>\n",
              "  </thead>\n",
              "  <tbody>\n",
              "    <tr>\n",
              "      <th>0</th>\n",
              "      <td>294</td>\n",
              "    </tr>\n",
              "  </tbody>\n",
              "</table>\n",
              "</div>"
            ],
            "text/plain": [
              "   Количество сфер деятельности\n",
              "0                           294"
            ]
          },
          "execution_count": 11,
          "metadata": {},
          "output_type": "execute_result"
        }
      ],
      "source": [
        "# результат запроса\n",
        "df = pd.read_sql_query(query_3_4, connection)\n",
        "df"
      ]
    },
    {
      "attachments": {},
      "cell_type": "markdown",
      "id": "9a8a2181-6914-448b-85f1-38f5f18b8a93",
      "metadata": {
        "id": "9a8a2181-6914-448b-85f1-38f5f18b8a93"
      },
      "source": [
        "***"
      ]
    },
    {
      "attachments": {},
      "cell_type": "markdown",
      "id": "104476af",
      "metadata": {},
      "source": [
        "Представляется очень небольшим количество сфер деятельности: всего 294. Есть несколько объяснений этому: \n",
        "1. Сферы деятельности обобщены и укрупнены\n",
        "2. Не все работодатели указали сферу своей деятельности\n",
        "3. Ряд работодателей может работать в большем количестве сфер, чем указано\n",
        "4. Выборка сконцентрирована на каких-то определенных отраслях"
      ]
    },
    {
      "attachments": {},
      "cell_type": "markdown",
      "id": "8d62a9f3-f64e-4fe7-bdac-c4dffa16155e",
      "metadata": {
        "id": "8d62a9f3-f64e-4fe7-bdac-c4dffa16155e"
      },
      "source": [
        "# Юнит 4. Детальный анализ вакансий"
      ]
    },
    {
      "attachments": {},
      "cell_type": "markdown",
      "id": "93053d3d-b284-481a-9cf7-012d7014c0e0",
      "metadata": {
        "id": "93053d3d-b284-481a-9cf7-012d7014c0e0"
      },
      "source": [
        "1. Напишите запрос, который позволит узнать, сколько (cnt) вакансий в каждом регионе (area).\n",
        "Отсортируйте по количеству вакансий в порядке убывания."
      ]
    },
    {
      "cell_type": "code",
      "execution_count": 12,
      "id": "3f069da6-fdc9-4ae7-b514-fafe2675efd3",
      "metadata": {
        "id": "3f069da6-fdc9-4ae7-b514-fafe2675efd3"
      },
      "outputs": [],
      "source": [
        "# текст запроса\n",
        "query_4_1 = f'''select a.name area, count(*) cnt\n",
        "                from public.vacancies v\n",
        "                join public.areas a on v.area_id = a.id\n",
        "                group by a.id\n",
        "                order by 2 desc\n",
        "                limit 5\n",
        "'''"
      ]
    },
    {
      "cell_type": "code",
      "execution_count": 13,
      "id": "P7QL86hrjhRJ",
      "metadata": {
        "id": "P7QL86hrjhRJ"
      },
      "outputs": [
        {
          "data": {
            "text/html": [
              "<div>\n",
              "<style scoped>\n",
              "    .dataframe tbody tr th:only-of-type {\n",
              "        vertical-align: middle;\n",
              "    }\n",
              "\n",
              "    .dataframe tbody tr th {\n",
              "        vertical-align: top;\n",
              "    }\n",
              "\n",
              "    .dataframe thead th {\n",
              "        text-align: right;\n",
              "    }\n",
              "</style>\n",
              "<table border=\"1\" class=\"dataframe\">\n",
              "  <thead>\n",
              "    <tr style=\"text-align: right;\">\n",
              "      <th></th>\n",
              "      <th>area</th>\n",
              "      <th>cnt</th>\n",
              "    </tr>\n",
              "  </thead>\n",
              "  <tbody>\n",
              "    <tr>\n",
              "      <th>0</th>\n",
              "      <td>Москва</td>\n",
              "      <td>5333</td>\n",
              "    </tr>\n",
              "    <tr>\n",
              "      <th>1</th>\n",
              "      <td>Санкт-Петербург</td>\n",
              "      <td>2851</td>\n",
              "    </tr>\n",
              "    <tr>\n",
              "      <th>2</th>\n",
              "      <td>Минск</td>\n",
              "      <td>2112</td>\n",
              "    </tr>\n",
              "    <tr>\n",
              "      <th>3</th>\n",
              "      <td>Новосибирск</td>\n",
              "      <td>2006</td>\n",
              "    </tr>\n",
              "    <tr>\n",
              "      <th>4</th>\n",
              "      <td>Алматы</td>\n",
              "      <td>1892</td>\n",
              "    </tr>\n",
              "  </tbody>\n",
              "</table>\n",
              "</div>"
            ],
            "text/plain": [
              "              area   cnt\n",
              "0           Москва  5333\n",
              "1  Санкт-Петербург  2851\n",
              "2            Минск  2112\n",
              "3      Новосибирск  2006\n",
              "4           Алматы  1892"
            ]
          },
          "execution_count": 13,
          "metadata": {},
          "output_type": "execute_result"
        }
      ],
      "source": [
        "# результат запроса\n",
        "df = pd.read_sql_query(query_4_1, connection)\n",
        "df"
      ]
    },
    {
      "attachments": {},
      "cell_type": "markdown",
      "id": "4266f0b6-1646-492a-88b4-2f6a46502135",
      "metadata": {
        "id": "4266f0b6-1646-492a-88b4-2f6a46502135"
      },
      "source": [
        "2. Напишите запрос, чтобы определить у какого количества вакансий заполнено хотя бы одно из двух полей с зарплатой."
      ]
    },
    {
      "cell_type": "code",
      "execution_count": 14,
      "id": "0c44b350-72eb-4d65-8b54-a1fc449ba9fd",
      "metadata": {
        "id": "0c44b350-72eb-4d65-8b54-a1fc449ba9fd"
      },
      "outputs": [],
      "source": [
        "# текст запроса\n",
        "query_4_2 = f'''select count(*)\n",
        "                from public.vacancies v\n",
        "                where v.salary_from is not null or v.salary_to is not null\n",
        "'''"
      ]
    },
    {
      "cell_type": "code",
      "execution_count": 15,
      "id": "rhvwaMDkoWTi",
      "metadata": {
        "id": "rhvwaMDkoWTi"
      },
      "outputs": [
        {
          "data": {
            "text/html": [
              "<div>\n",
              "<style scoped>\n",
              "    .dataframe tbody tr th:only-of-type {\n",
              "        vertical-align: middle;\n",
              "    }\n",
              "\n",
              "    .dataframe tbody tr th {\n",
              "        vertical-align: top;\n",
              "    }\n",
              "\n",
              "    .dataframe thead th {\n",
              "        text-align: right;\n",
              "    }\n",
              "</style>\n",
              "<table border=\"1\" class=\"dataframe\">\n",
              "  <thead>\n",
              "    <tr style=\"text-align: right;\">\n",
              "      <th></th>\n",
              "      <th>count</th>\n",
              "    </tr>\n",
              "  </thead>\n",
              "  <tbody>\n",
              "    <tr>\n",
              "      <th>0</th>\n",
              "      <td>24073</td>\n",
              "    </tr>\n",
              "  </tbody>\n",
              "</table>\n",
              "</div>"
            ],
            "text/plain": [
              "   count\n",
              "0  24073"
            ]
          },
          "execution_count": 15,
          "metadata": {},
          "output_type": "execute_result"
        }
      ],
      "source": [
        "# результат запроса\n",
        "df = pd.read_sql_query(query_4_2, connection)\n",
        "df"
      ]
    },
    {
      "attachments": {},
      "cell_type": "markdown",
      "id": "635c4d5d-f323-4c66-b428-50a088120aa0",
      "metadata": {
        "id": "635c4d5d-f323-4c66-b428-50a088120aa0"
      },
      "source": [
        "3. Найдите средние значения для нижней и верхней границы зарплатной вилки. Округлите значения до целого."
      ]
    },
    {
      "cell_type": "code",
      "execution_count": 16,
      "id": "603cdbe4-0ec3-4106-8eaf-c73fcdd29165",
      "metadata": {
        "id": "603cdbe4-0ec3-4106-8eaf-c73fcdd29165"
      },
      "outputs": [],
      "source": [
        "# текст запроса\n",
        "# Для наглядности решим задачу при помощи union. Более простое решение - указать в выдаче сразу обе агрегирующих функции\n",
        "query_4_3 = f'''select round(avg(v.salary_from)) as \"Средняя ЗП\", 'Нижняя граница' as \"Граница\"\n",
        "                from public.vacancies v\n",
        "                union\n",
        "                select round(avg(v.salary_to)), 'Верхняя граница'\n",
        "                from public.vacancies v\n",
        "'''"
      ]
    },
    {
      "cell_type": "code",
      "execution_count": 17,
      "id": "pswpAb66ovZZ",
      "metadata": {
        "id": "pswpAb66ovZZ"
      },
      "outputs": [
        {
          "data": {
            "text/html": [
              "<div>\n",
              "<style scoped>\n",
              "    .dataframe tbody tr th:only-of-type {\n",
              "        vertical-align: middle;\n",
              "    }\n",
              "\n",
              "    .dataframe tbody tr th {\n",
              "        vertical-align: top;\n",
              "    }\n",
              "\n",
              "    .dataframe thead th {\n",
              "        text-align: right;\n",
              "    }\n",
              "</style>\n",
              "<table border=\"1\" class=\"dataframe\">\n",
              "  <thead>\n",
              "    <tr style=\"text-align: right;\">\n",
              "      <th></th>\n",
              "      <th>Средняя ЗП</th>\n",
              "      <th>Граница</th>\n",
              "    </tr>\n",
              "  </thead>\n",
              "  <tbody>\n",
              "    <tr>\n",
              "      <th>0</th>\n",
              "      <td>71065.0</td>\n",
              "      <td>Нижняя граница</td>\n",
              "    </tr>\n",
              "    <tr>\n",
              "      <th>1</th>\n",
              "      <td>110537.0</td>\n",
              "      <td>Верхняя граница</td>\n",
              "    </tr>\n",
              "  </tbody>\n",
              "</table>\n",
              "</div>"
            ],
            "text/plain": [
              "   Средняя ЗП          Граница\n",
              "0     71065.0   Нижняя граница\n",
              "1    110537.0  Верхняя граница"
            ]
          },
          "execution_count": 17,
          "metadata": {},
          "output_type": "execute_result"
        }
      ],
      "source": [
        "# результат запроса\n",
        "df = pd.read_sql_query(query_4_3, connection)\n",
        "df"
      ]
    },
    {
      "attachments": {},
      "cell_type": "markdown",
      "id": "f3fdaec9-5fd3-4260-9cf5-1d7406b628a5",
      "metadata": {
        "id": "f3fdaec9-5fd3-4260-9cf5-1d7406b628a5"
      },
      "source": [
        "4. Напишите запрос, который выведет количество вакансий для каждого сочетания типа рабочего графика (schedule) и типа трудоустройства (employment), используемого в вакансиях. Результат отсортируйте по убыванию количества.\n"
      ]
    },
    {
      "cell_type": "code",
      "execution_count": 18,
      "id": "1ea710ec-871b-431e-9462-c7d0fd87011b",
      "metadata": {
        "id": "1ea710ec-871b-431e-9462-c7d0fd87011b"
      },
      "outputs": [],
      "source": [
        "# текст запроса\n",
        "query_4_4 = f'''select distinct schedule, employment, count(*)\n",
        "                from public.vacancies\n",
        "                group by schedule, employment\n",
        "                order by 3 desc\n",
        "                limit 5\n",
        "'''"
      ]
    },
    {
      "cell_type": "code",
      "execution_count": 19,
      "id": "lGUVqavdo4JQ",
      "metadata": {
        "id": "lGUVqavdo4JQ"
      },
      "outputs": [
        {
          "data": {
            "text/html": [
              "<div>\n",
              "<style scoped>\n",
              "    .dataframe tbody tr th:only-of-type {\n",
              "        vertical-align: middle;\n",
              "    }\n",
              "\n",
              "    .dataframe tbody tr th {\n",
              "        vertical-align: top;\n",
              "    }\n",
              "\n",
              "    .dataframe thead th {\n",
              "        text-align: right;\n",
              "    }\n",
              "</style>\n",
              "<table border=\"1\" class=\"dataframe\">\n",
              "  <thead>\n",
              "    <tr style=\"text-align: right;\">\n",
              "      <th></th>\n",
              "      <th>schedule</th>\n",
              "      <th>employment</th>\n",
              "      <th>count</th>\n",
              "    </tr>\n",
              "  </thead>\n",
              "  <tbody>\n",
              "    <tr>\n",
              "      <th>0</th>\n",
              "      <td>Полный день</td>\n",
              "      <td>Полная занятость</td>\n",
              "      <td>35367</td>\n",
              "    </tr>\n",
              "    <tr>\n",
              "      <th>1</th>\n",
              "      <td>Удаленная работа</td>\n",
              "      <td>Полная занятость</td>\n",
              "      <td>7802</td>\n",
              "    </tr>\n",
              "    <tr>\n",
              "      <th>2</th>\n",
              "      <td>Гибкий график</td>\n",
              "      <td>Полная занятость</td>\n",
              "      <td>1593</td>\n",
              "    </tr>\n",
              "    <tr>\n",
              "      <th>3</th>\n",
              "      <td>Удаленная работа</td>\n",
              "      <td>Частичная занятость</td>\n",
              "      <td>1312</td>\n",
              "    </tr>\n",
              "    <tr>\n",
              "      <th>4</th>\n",
              "      <td>Сменный график</td>\n",
              "      <td>Полная занятость</td>\n",
              "      <td>940</td>\n",
              "    </tr>\n",
              "  </tbody>\n",
              "</table>\n",
              "</div>"
            ],
            "text/plain": [
              "           schedule           employment  count\n",
              "0       Полный день     Полная занятость  35367\n",
              "1  Удаленная работа     Полная занятость   7802\n",
              "2     Гибкий график     Полная занятость   1593\n",
              "3  Удаленная работа  Частичная занятость   1312\n",
              "4    Сменный график     Полная занятость    940"
            ]
          },
          "execution_count": 19,
          "metadata": {},
          "output_type": "execute_result"
        }
      ],
      "source": [
        "# результат запроса\n",
        "df = pd.read_sql_query(query_4_4, connection)\n",
        "df"
      ]
    },
    {
      "attachments": {},
      "cell_type": "markdown",
      "id": "0136ffee-0ead-4a6b-b608-61d1c753a438",
      "metadata": {
        "id": "0136ffee-0ead-4a6b-b608-61d1c753a438"
      },
      "source": [
        "5. Напишите запрос, выводящий значения поля Требуемый опыт работы (experience) в порядке возрастания количества вакансий, в которых указан данный вариант опыта. "
      ]
    },
    {
      "cell_type": "code",
      "execution_count": 20,
      "id": "5b3a8e79-f7ab-4008-b767-12aea3a205ea",
      "metadata": {
        "id": "5b3a8e79-f7ab-4008-b767-12aea3a205ea"
      },
      "outputs": [],
      "source": [
        "# текст запроса\n",
        "query_4_5 = f'''select distinct experience, count(*)\n",
        "                from public.vacancies\n",
        "                where experience is not null\n",
        "                group by experience\n",
        "                order by 2 asc\n",
        "'''"
      ]
    },
    {
      "cell_type": "code",
      "execution_count": 21,
      "id": "3Is64Y-hpDpq",
      "metadata": {
        "id": "3Is64Y-hpDpq"
      },
      "outputs": [
        {
          "data": {
            "text/html": [
              "<div>\n",
              "<style scoped>\n",
              "    .dataframe tbody tr th:only-of-type {\n",
              "        vertical-align: middle;\n",
              "    }\n",
              "\n",
              "    .dataframe tbody tr th {\n",
              "        vertical-align: top;\n",
              "    }\n",
              "\n",
              "    .dataframe thead th {\n",
              "        text-align: right;\n",
              "    }\n",
              "</style>\n",
              "<table border=\"1\" class=\"dataframe\">\n",
              "  <thead>\n",
              "    <tr style=\"text-align: right;\">\n",
              "      <th></th>\n",
              "      <th>experience</th>\n",
              "      <th>count</th>\n",
              "    </tr>\n",
              "  </thead>\n",
              "  <tbody>\n",
              "    <tr>\n",
              "      <th>0</th>\n",
              "      <td>Более 6 лет</td>\n",
              "      <td>1337</td>\n",
              "    </tr>\n",
              "    <tr>\n",
              "      <th>1</th>\n",
              "      <td>Нет опыта</td>\n",
              "      <td>7197</td>\n",
              "    </tr>\n",
              "    <tr>\n",
              "      <th>2</th>\n",
              "      <td>От 3 до 6 лет</td>\n",
              "      <td>14511</td>\n",
              "    </tr>\n",
              "    <tr>\n",
              "      <th>3</th>\n",
              "      <td>От 1 года до 3 лет</td>\n",
              "      <td>26152</td>\n",
              "    </tr>\n",
              "  </tbody>\n",
              "</table>\n",
              "</div>"
            ],
            "text/plain": [
              "           experience  count\n",
              "0         Более 6 лет   1337\n",
              "1           Нет опыта   7197\n",
              "2       От 3 до 6 лет  14511\n",
              "3  От 1 года до 3 лет  26152"
            ]
          },
          "execution_count": 21,
          "metadata": {},
          "output_type": "execute_result"
        }
      ],
      "source": [
        "# результат запроса\n",
        "df = pd.read_sql_query(query_4_5, connection)\n",
        "df"
      ]
    },
    {
      "attachments": {},
      "cell_type": "markdown",
      "id": "oq2b7n1QpIka",
      "metadata": {
        "id": "oq2b7n1QpIka"
      },
      "source": [
        "***"
      ]
    },
    {
      "attachments": {},
      "cell_type": "markdown",
      "id": "8364d898",
      "metadata": {},
      "source": [
        "Ожидаемо количество вакансий больше всего в столицах и крупных городах. Обращает внимание большое число вакансий с возможностью удаленной работы - почти 8000 из 49000 записей. Вероятно, толчок к развитию такого способа работы связан как с опытом карантина, так и с текущей геополитической обстановкой (время формирования датасета неизвеста).\n",
        "\n",
        "Представленные средние верхняя и нижняя границы ЗП весьма высоки. Для более детального анализа и формирования выводов нужно изучать вакансии с указанными окладами и, вероятно, менять способ подсчета (среднее арифметическое очень сильно искажает действительность)."
      ]
    },
    {
      "attachments": {},
      "cell_type": "markdown",
      "id": "7ea20ab6-04a7-40a0-adec-443a0e5a42c3",
      "metadata": {
        "id": "7ea20ab6-04a7-40a0-adec-443a0e5a42c3"
      },
      "source": [
        "# Юнит 5. Анализ работодателей"
      ]
    },
    {
      "attachments": {},
      "cell_type": "markdown",
      "id": "968aed80-74ef-4ffb-b5bf-c65b84e9caea",
      "metadata": {
        "id": "968aed80-74ef-4ffb-b5bf-c65b84e9caea"
      },
      "source": [
        "1. Напишите запрос, который позволит узнать, какие работодатели находятся на первом и пятом месте по количеству вакансий."
      ]
    },
    {
      "cell_type": "code",
      "execution_count": 22,
      "id": "f2d62796-d400-4ec1-a675-88112739a50e",
      "metadata": {
        "id": "f2d62796-d400-4ec1-a675-88112739a50e"
      },
      "outputs": [],
      "source": [
        "# текст запроса\n",
        "query_5_1 = f'''(select distinct e.name, count(*)\n",
        "                from public.employers e\n",
        "                join public.vacancies v on e.id = v.employer_id\n",
        "                group by e.id\n",
        "                order by 2 desc\n",
        "                limit 1)\n",
        "                union\n",
        "                (select distinct e.name, count(*)\n",
        "                from public.employers e\n",
        "                join public.vacancies v on e.id = v.employer_id\n",
        "                group by e.id\n",
        "                order by 2 desc\n",
        "                offset 4\n",
        "                limit 1)\n",
        "                order by 2 desc\n",
        "'''"
      ]
    },
    {
      "cell_type": "code",
      "execution_count": 23,
      "id": "64tOMkAxqkQk",
      "metadata": {
        "id": "64tOMkAxqkQk"
      },
      "outputs": [
        {
          "data": {
            "text/html": [
              "<div>\n",
              "<style scoped>\n",
              "    .dataframe tbody tr th:only-of-type {\n",
              "        vertical-align: middle;\n",
              "    }\n",
              "\n",
              "    .dataframe tbody tr th {\n",
              "        vertical-align: top;\n",
              "    }\n",
              "\n",
              "    .dataframe thead th {\n",
              "        text-align: right;\n",
              "    }\n",
              "</style>\n",
              "<table border=\"1\" class=\"dataframe\">\n",
              "  <thead>\n",
              "    <tr style=\"text-align: right;\">\n",
              "      <th></th>\n",
              "      <th>name</th>\n",
              "      <th>count</th>\n",
              "    </tr>\n",
              "  </thead>\n",
              "  <tbody>\n",
              "    <tr>\n",
              "      <th>0</th>\n",
              "      <td>Яндекс</td>\n",
              "      <td>1933</td>\n",
              "    </tr>\n",
              "    <tr>\n",
              "      <th>1</th>\n",
              "      <td>Газпром нефть</td>\n",
              "      <td>331</td>\n",
              "    </tr>\n",
              "  </tbody>\n",
              "</table>\n",
              "</div>"
            ],
            "text/plain": [
              "            name  count\n",
              "0         Яндекс   1933\n",
              "1  Газпром нефть    331"
            ]
          },
          "execution_count": 23,
          "metadata": {},
          "output_type": "execute_result"
        }
      ],
      "source": [
        "# результат запроса\n",
        "df = pd.read_sql_query(query_5_1, connection)\n",
        "df"
      ]
    },
    {
      "attachments": {},
      "cell_type": "markdown",
      "id": "68377cfc-b378-43dc-ab7d-1195abf2c515",
      "metadata": {
        "id": "68377cfc-b378-43dc-ab7d-1195abf2c515"
      },
      "source": [
        "2. Напишите запрос, который для каждого региона выведет количество работодателей и вакансий в нём.\n",
        "Среди регионов, в которых нет вакансий, найдите тот, в котором наибольшее количество работодателей.\n"
      ]
    },
    {
      "cell_type": "code",
      "execution_count": 24,
      "id": "dd7df27a-e3e8-412e-a21a-5d389b71e891",
      "metadata": {
        "id": "dd7df27a-e3e8-412e-a21a-5d389b71e891"
      },
      "outputs": [],
      "source": [
        "# текст запроса\n",
        "query_5_2 = f'''with emp as (\n",
        "                    select a.name \"Регион\", count(e.id) \"Количество работодателей\"\n",
        "                    from public.areas a\n",
        "                    left join public.employers e on a.id = e.area\n",
        "                    group by a.name\n",
        "                ), vac as (\n",
        "                    select a.name \"Регион\", count(v.id) \"Количество вакансий\"\n",
        "                    from public.areas a\n",
        "                    left join public.vacancies v on v.area_id = a.id\n",
        "                    group by a.name\n",
        "                )\n",
        "                select *\n",
        "                from emp\n",
        "                natural join vac\n",
        "                order by 2 desc, 3 desc\n",
        "                limit 10\n",
        "'''"
      ]
    },
    {
      "cell_type": "code",
      "execution_count": 25,
      "id": "x1ikWbydrbf6",
      "metadata": {
        "id": "x1ikWbydrbf6"
      },
      "outputs": [
        {
          "data": {
            "text/html": [
              "<div>\n",
              "<style scoped>\n",
              "    .dataframe tbody tr th:only-of-type {\n",
              "        vertical-align: middle;\n",
              "    }\n",
              "\n",
              "    .dataframe tbody tr th {\n",
              "        vertical-align: top;\n",
              "    }\n",
              "\n",
              "    .dataframe thead th {\n",
              "        text-align: right;\n",
              "    }\n",
              "</style>\n",
              "<table border=\"1\" class=\"dataframe\">\n",
              "  <thead>\n",
              "    <tr style=\"text-align: right;\">\n",
              "      <th></th>\n",
              "      <th>Регион</th>\n",
              "      <th>Количество работодателей</th>\n",
              "      <th>Количество вакансий</th>\n",
              "    </tr>\n",
              "  </thead>\n",
              "  <tbody>\n",
              "    <tr>\n",
              "      <th>0</th>\n",
              "      <td>Москва</td>\n",
              "      <td>5864</td>\n",
              "      <td>5333</td>\n",
              "    </tr>\n",
              "    <tr>\n",
              "      <th>1</th>\n",
              "      <td>Санкт-Петербург</td>\n",
              "      <td>2217</td>\n",
              "      <td>2851</td>\n",
              "    </tr>\n",
              "    <tr>\n",
              "      <th>2</th>\n",
              "      <td>Минск</td>\n",
              "      <td>1115</td>\n",
              "      <td>2112</td>\n",
              "    </tr>\n",
              "    <tr>\n",
              "      <th>3</th>\n",
              "      <td>Алматы</td>\n",
              "      <td>721</td>\n",
              "      <td>1892</td>\n",
              "    </tr>\n",
              "    <tr>\n",
              "      <th>4</th>\n",
              "      <td>Екатеринбург</td>\n",
              "      <td>609</td>\n",
              "      <td>1698</td>\n",
              "    </tr>\n",
              "    <tr>\n",
              "      <th>5</th>\n",
              "      <td>Новосибирск</td>\n",
              "      <td>573</td>\n",
              "      <td>2006</td>\n",
              "    </tr>\n",
              "    <tr>\n",
              "      <th>6</th>\n",
              "      <td>Казань</td>\n",
              "      <td>480</td>\n",
              "      <td>1415</td>\n",
              "    </tr>\n",
              "    <tr>\n",
              "      <th>7</th>\n",
              "      <td>Нижний Новгород</td>\n",
              "      <td>426</td>\n",
              "      <td>1670</td>\n",
              "    </tr>\n",
              "    <tr>\n",
              "      <th>8</th>\n",
              "      <td>Россия</td>\n",
              "      <td>410</td>\n",
              "      <td>0</td>\n",
              "    </tr>\n",
              "    <tr>\n",
              "      <th>9</th>\n",
              "      <td>Краснодар</td>\n",
              "      <td>409</td>\n",
              "      <td>1301</td>\n",
              "    </tr>\n",
              "  </tbody>\n",
              "</table>\n",
              "</div>"
            ],
            "text/plain": [
              "            Регион  Количество работодателей  Количество вакансий\n",
              "0           Москва                      5864                 5333\n",
              "1  Санкт-Петербург                      2217                 2851\n",
              "2            Минск                      1115                 2112\n",
              "3           Алматы                       721                 1892\n",
              "4     Екатеринбург                       609                 1698\n",
              "5      Новосибирск                       573                 2006\n",
              "6           Казань                       480                 1415\n",
              "7  Нижний Новгород                       426                 1670\n",
              "8           Россия                       410                    0\n",
              "9        Краснодар                       409                 1301"
            ]
          },
          "execution_count": 25,
          "metadata": {},
          "output_type": "execute_result"
        }
      ],
      "source": [
        "# результат запроса\n",
        "df = pd.read_sql_query(query_5_2, connection)\n",
        "df"
      ]
    },
    {
      "cell_type": "code",
      "execution_count": 26,
      "id": "3c433cc4",
      "metadata": {},
      "outputs": [],
      "source": [
        "# ответ на вопрос в модуле\n",
        "# для этого изменим сортировку и лимит выдачи\n",
        "query_5_2_1 = f'''with emp as (\n",
        "                    select a.name \"Регион\", count(e.id) \"Количество работодателей\"\n",
        "                    from public.areas a\n",
        "                    left join public.employers e on a.id = e.area\n",
        "                    group by a.name\n",
        "                ), vac as (\n",
        "                    select a.name \"Регион\", count(v.id) \"Количество вакансий\"\n",
        "                    from public.areas a\n",
        "                    left join public.vacancies v on v.area_id = a.id\n",
        "                    group by a.name\n",
        "                )\n",
        "                select *\n",
        "                from emp\n",
        "                natural join vac\n",
        "                order by 3 asc, 2 desc\n",
        "                limit 1\n",
        "'''"
      ]
    },
    {
      "cell_type": "code",
      "execution_count": 27,
      "id": "c95018d3",
      "metadata": {},
      "outputs": [
        {
          "data": {
            "text/html": [
              "<div>\n",
              "<style scoped>\n",
              "    .dataframe tbody tr th:only-of-type {\n",
              "        vertical-align: middle;\n",
              "    }\n",
              "\n",
              "    .dataframe tbody tr th {\n",
              "        vertical-align: top;\n",
              "    }\n",
              "\n",
              "    .dataframe thead th {\n",
              "        text-align: right;\n",
              "    }\n",
              "</style>\n",
              "<table border=\"1\" class=\"dataframe\">\n",
              "  <thead>\n",
              "    <tr style=\"text-align: right;\">\n",
              "      <th></th>\n",
              "      <th>Регион</th>\n",
              "      <th>Количество работодателей</th>\n",
              "      <th>Количество вакансий</th>\n",
              "    </tr>\n",
              "  </thead>\n",
              "  <tbody>\n",
              "    <tr>\n",
              "      <th>0</th>\n",
              "      <td>Россия</td>\n",
              "      <td>410</td>\n",
              "      <td>0</td>\n",
              "    </tr>\n",
              "  </tbody>\n",
              "</table>\n",
              "</div>"
            ],
            "text/plain": [
              "   Регион  Количество работодателей  Количество вакансий\n",
              "0  Россия                       410                    0"
            ]
          },
          "execution_count": 27,
          "metadata": {},
          "output_type": "execute_result"
        }
      ],
      "source": [
        "# результат запроса\n",
        "df = pd.read_sql_query(query_5_2_1, connection)\n",
        "df"
      ]
    },
    {
      "attachments": {},
      "cell_type": "markdown",
      "id": "f2fe0acb-ab1a-4e15-9326-2560e22d73c1",
      "metadata": {
        "id": "f2fe0acb-ab1a-4e15-9326-2560e22d73c1"
      },
      "source": [
        "3. Для каждого работодателя посчитайте количество регионов, в которых он публикует свои вакансии. Отсортируйте результат по убыванию количества.\n"
      ]
    },
    {
      "cell_type": "code",
      "execution_count": 28,
      "id": "6271f8ad-bd2e-4196-ae4a-5b39c4c1010e",
      "metadata": {
        "id": "6271f8ad-bd2e-4196-ae4a-5b39c4c1010e"
      },
      "outputs": [],
      "source": [
        "# текст запроса\n",
        "query_5_3 = f'''select \n",
        "                    e.name \"Работодатель\", \n",
        "                    count(distinct v.area_id) \"Количество регионов с вакансиями работодателя\"\n",
        "                from public.vacancies v\n",
        "                join public.employers e on v.employer_id = e.id\n",
        "                group by e.id\n",
        "                order by 2 desc\n",
        "                limit 10\n",
        "'''"
      ]
    },
    {
      "cell_type": "code",
      "execution_count": 29,
      "id": "1EIvX3HasH4F",
      "metadata": {
        "id": "1EIvX3HasH4F"
      },
      "outputs": [
        {
          "data": {
            "text/html": [
              "<div>\n",
              "<style scoped>\n",
              "    .dataframe tbody tr th:only-of-type {\n",
              "        vertical-align: middle;\n",
              "    }\n",
              "\n",
              "    .dataframe tbody tr th {\n",
              "        vertical-align: top;\n",
              "    }\n",
              "\n",
              "    .dataframe thead th {\n",
              "        text-align: right;\n",
              "    }\n",
              "</style>\n",
              "<table border=\"1\" class=\"dataframe\">\n",
              "  <thead>\n",
              "    <tr style=\"text-align: right;\">\n",
              "      <th></th>\n",
              "      <th>Работодатель</th>\n",
              "      <th>Количество регионов с вакансиями</th>\n",
              "    </tr>\n",
              "  </thead>\n",
              "  <tbody>\n",
              "    <tr>\n",
              "      <th>0</th>\n",
              "      <td>Яндекс</td>\n",
              "      <td>181</td>\n",
              "    </tr>\n",
              "    <tr>\n",
              "      <th>1</th>\n",
              "      <td>Ростелеком</td>\n",
              "      <td>152</td>\n",
              "    </tr>\n",
              "    <tr>\n",
              "      <th>2</th>\n",
              "      <td>Спецремонт</td>\n",
              "      <td>116</td>\n",
              "    </tr>\n",
              "    <tr>\n",
              "      <th>3</th>\n",
              "      <td>Поляков Денис Иванович</td>\n",
              "      <td>88</td>\n",
              "    </tr>\n",
              "    <tr>\n",
              "      <th>4</th>\n",
              "      <td>ООО ЕФИН</td>\n",
              "      <td>71</td>\n",
              "    </tr>\n",
              "    <tr>\n",
              "      <th>5</th>\n",
              "      <td>Совкомбанк</td>\n",
              "      <td>63</td>\n",
              "    </tr>\n",
              "    <tr>\n",
              "      <th>6</th>\n",
              "      <td>МТС</td>\n",
              "      <td>55</td>\n",
              "    </tr>\n",
              "    <tr>\n",
              "      <th>7</th>\n",
              "      <td>ЭФКО, Управляющая компания</td>\n",
              "      <td>49</td>\n",
              "    </tr>\n",
              "    <tr>\n",
              "      <th>8</th>\n",
              "      <td>Почта России</td>\n",
              "      <td>48</td>\n",
              "    </tr>\n",
              "    <tr>\n",
              "      <th>9</th>\n",
              "      <td>КРОН</td>\n",
              "      <td>48</td>\n",
              "    </tr>\n",
              "  </tbody>\n",
              "</table>\n",
              "</div>"
            ],
            "text/plain": [
              "                 Работодатель  Количество регионов с вакансиями \n",
              "0                      Яндекс                                181\n",
              "1                  Ростелеком                                152\n",
              "2                  Спецремонт                                116\n",
              "3      Поляков Денис Иванович                                 88\n",
              "4                   ООО ЕФИН                                  71\n",
              "5                  Совкомбанк                                 63\n",
              "6                         МТС                                 55\n",
              "7  ЭФКО, Управляющая компания                                 49\n",
              "8                Почта России                                 48\n",
              "9                        КРОН                                 48"
            ]
          },
          "execution_count": 29,
          "metadata": {},
          "output_type": "execute_result"
        }
      ],
      "source": [
        "# результат запроса\n",
        "df = pd.read_sql_query(query_5_3, connection)\n",
        "df"
      ]
    },
    {
      "attachments": {},
      "cell_type": "markdown",
      "id": "eab2206d-d95b-468b-8e5f-34381abf0ce7",
      "metadata": {
        "id": "eab2206d-d95b-468b-8e5f-34381abf0ce7"
      },
      "source": [
        "4. Напишите запрос для подсчёта количества работодателей, у которых не указана сфера деятельности. "
      ]
    },
    {
      "cell_type": "code",
      "execution_count": 30,
      "id": "80defb23-bfb1-4a18-8be6-bf36aa7165d5",
      "metadata": {
        "id": "80defb23-bfb1-4a18-8be6-bf36aa7165d5"
      },
      "outputs": [],
      "source": [
        "# текст запроса\n",
        "query_5_4 = f'''select count(*)\n",
        "                from public.employers e\n",
        "                left join public.employers_industries ei on e.id = ei.employer_id\n",
        "                where ei.industry_id is null\n",
        "'''"
      ]
    },
    {
      "cell_type": "code",
      "execution_count": 31,
      "id": "Dp_yCx6ysQSu",
      "metadata": {
        "id": "Dp_yCx6ysQSu"
      },
      "outputs": [
        {
          "data": {
            "text/html": [
              "<div>\n",
              "<style scoped>\n",
              "    .dataframe tbody tr th:only-of-type {\n",
              "        vertical-align: middle;\n",
              "    }\n",
              "\n",
              "    .dataframe tbody tr th {\n",
              "        vertical-align: top;\n",
              "    }\n",
              "\n",
              "    .dataframe thead th {\n",
              "        text-align: right;\n",
              "    }\n",
              "</style>\n",
              "<table border=\"1\" class=\"dataframe\">\n",
              "  <thead>\n",
              "    <tr style=\"text-align: right;\">\n",
              "      <th></th>\n",
              "      <th>count</th>\n",
              "    </tr>\n",
              "  </thead>\n",
              "  <tbody>\n",
              "    <tr>\n",
              "      <th>0</th>\n",
              "      <td>8419</td>\n",
              "    </tr>\n",
              "  </tbody>\n",
              "</table>\n",
              "</div>"
            ],
            "text/plain": [
              "   count\n",
              "0   8419"
            ]
          },
          "execution_count": 31,
          "metadata": {},
          "output_type": "execute_result"
        }
      ],
      "source": [
        "# результат запроса\n",
        "df = pd.read_sql_query(query_5_4, connection)\n",
        "df"
      ]
    },
    {
      "attachments": {},
      "cell_type": "markdown",
      "id": "0112af31-f6b0-4e3b-82ab-71296e752e5e",
      "metadata": {
        "id": "0112af31-f6b0-4e3b-82ab-71296e752e5e"
      },
      "source": [
        "5. Напишите запрос, чтобы узнать название компании, находящейся на третьем месте в алфавитном списке (по названию) компаний, у которых указано четыре сферы деятельности. "
      ]
    },
    {
      "cell_type": "code",
      "execution_count": 32,
      "id": "973b0cfc-a972-470a-8b4a-68744ef220c4",
      "metadata": {
        "id": "973b0cfc-a972-470a-8b4a-68744ef220c4"
      },
      "outputs": [],
      "source": [
        "# текст запроса\n",
        "# В данном задании фильтрация возможна только после группировки\n",
        "query_5_5 = f'''select e.name \"Название компании\"\n",
        "                from public.employers_industries ei\n",
        "                join public.employers e on ei.employer_id = e.id\n",
        "                group by ei.employer_id, e.id\n",
        "                having count(*) = 4\n",
        "                order by 1\n",
        "                offset 2\n",
        "                limit 1\n",
        "'''"
      ]
    },
    {
      "cell_type": "code",
      "execution_count": 33,
      "id": "xsPtpp8EsaED",
      "metadata": {
        "id": "xsPtpp8EsaED"
      },
      "outputs": [
        {
          "data": {
            "text/html": [
              "<div>\n",
              "<style scoped>\n",
              "    .dataframe tbody tr th:only-of-type {\n",
              "        vertical-align: middle;\n",
              "    }\n",
              "\n",
              "    .dataframe tbody tr th {\n",
              "        vertical-align: top;\n",
              "    }\n",
              "\n",
              "    .dataframe thead th {\n",
              "        text-align: right;\n",
              "    }\n",
              "</style>\n",
              "<table border=\"1\" class=\"dataframe\">\n",
              "  <thead>\n",
              "    <tr style=\"text-align: right;\">\n",
              "      <th></th>\n",
              "      <th>Название компании</th>\n",
              "    </tr>\n",
              "  </thead>\n",
              "  <tbody>\n",
              "    <tr>\n",
              "      <th>0</th>\n",
              "      <td>2ГИС</td>\n",
              "    </tr>\n",
              "  </tbody>\n",
              "</table>\n",
              "</div>"
            ],
            "text/plain": [
              "  Название компании\n",
              "0              2ГИС"
            ]
          },
          "execution_count": 33,
          "metadata": {},
          "output_type": "execute_result"
        }
      ],
      "source": [
        "# результат запроса\n",
        "df = pd.read_sql_query(query_5_5, connection)\n",
        "df"
      ]
    },
    {
      "attachments": {},
      "cell_type": "markdown",
      "id": "3bfcfdaf-755d-4d2b-8ed8-326201dc07ab",
      "metadata": {
        "id": "3bfcfdaf-755d-4d2b-8ed8-326201dc07ab"
      },
      "source": [
        "6. С помощью запроса выясните, у какого количества работодателей в качестве сферы деятельности указана Разработка программного обеспечения.\n"
      ]
    },
    {
      "cell_type": "code",
      "execution_count": 34,
      "id": "ad3f270f-2991-47eb-929b-e8f88a55b0d1",
      "metadata": {
        "id": "ad3f270f-2991-47eb-929b-e8f88a55b0d1"
      },
      "outputs": [],
      "source": [
        "# текст запроса\n",
        "query_5_6 = f'''select count(*)\n",
        "                from public.employers_industries ei\n",
        "                join public.industries i on ei.industry_id = i.id\n",
        "                where i.name = 'Разработка программного обеспечения'\n",
        "'''"
      ]
    },
    {
      "cell_type": "code",
      "execution_count": 35,
      "id": "H72qxWM0shPR",
      "metadata": {
        "id": "H72qxWM0shPR"
      },
      "outputs": [
        {
          "data": {
            "text/html": [
              "<div>\n",
              "<style scoped>\n",
              "    .dataframe tbody tr th:only-of-type {\n",
              "        vertical-align: middle;\n",
              "    }\n",
              "\n",
              "    .dataframe tbody tr th {\n",
              "        vertical-align: top;\n",
              "    }\n",
              "\n",
              "    .dataframe thead th {\n",
              "        text-align: right;\n",
              "    }\n",
              "</style>\n",
              "<table border=\"1\" class=\"dataframe\">\n",
              "  <thead>\n",
              "    <tr style=\"text-align: right;\">\n",
              "      <th></th>\n",
              "      <th>count</th>\n",
              "    </tr>\n",
              "  </thead>\n",
              "  <tbody>\n",
              "    <tr>\n",
              "      <th>0</th>\n",
              "      <td>3553</td>\n",
              "    </tr>\n",
              "  </tbody>\n",
              "</table>\n",
              "</div>"
            ],
            "text/plain": [
              "   count\n",
              "0   3553"
            ]
          },
          "execution_count": 35,
          "metadata": {},
          "output_type": "execute_result"
        }
      ],
      "source": [
        "# результат запроса\n",
        "df = pd.read_sql_query(query_5_6, connection)\n",
        "df"
      ]
    },
    {
      "attachments": {},
      "cell_type": "markdown",
      "id": "7b02bb86-0546-40fb-94a4-242f050a5c57",
      "metadata": {
        "id": "7b02bb86-0546-40fb-94a4-242f050a5c57"
      },
      "source": [
        "7. Для компании «Яндекс» выведите список регионов-миллионников, в которых представлены вакансии компании, вместе с количеством вакансий в этих регионах. Также добавьте строку Total с общим количеством вакансий компании. Результат отсортируйте по возрастанию количества.\n",
        "\n",
        "Список городов-милионников надо взять [отсюда](https://ru.wikipedia.org/wiki/%D0%93%D0%BE%D1%80%D0%BE%D0%B4%D0%B0-%D0%BC%D0%B8%D0%BB%D0%BB%D0%B8%D0%BE%D0%BD%D0%B5%D1%80%D1%8B_%D0%A0%D0%BE%D1%81%D1%81%D0%B8%D0%B8). \n",
        "\n",
        "Если возникнут трудности с этим задание посмотрите материалы модуля  PYTHON-17. Как получать данные из веб-источников и API. "
      ]
    },
    {
      "cell_type": "code",
      "execution_count": 36,
      "id": "ZdfrL6gIs1Pn",
      "metadata": {
        "id": "ZdfrL6gIs1Pn"
      },
      "outputs": [],
      "source": [
        "# код для получения списка городов-миллионников\n",
        "url = 'https://ru.wikipedia.org/wiki/%D0%93%D0%BE%D1%80%D0%BE%D0%B4%D0%B0-%D0%BC%D0%B8%D0%BB%D0%BB%D0%B8%D0%BE%D0%BD%D0%B5%D1%80%D1%8B_%D0%A0%D0%BE%D1%81%D1%81%D0%B8%D0%B8#%D0%A1%D0%BF%D0%B8%D1%81%D0%BE%D0%BA_%D0%B3%D0%BE%D1%80%D0%BE%D0%B4%D0%BE%D0%B2-%D0%BC%D0%B8%D0%BB%D0%BB%D0%B8%D0%BE%D0%BD%D0%B5%D1%80%D0%BE%D0%B2'\n",
        "# Таблицу после получения преобразуем в кортеж\n",
        "cities = tuple(pd.read_html(url)[1]['Город'])"
      ]
    },
    {
      "cell_type": "code",
      "execution_count": 37,
      "id": "5a0e32a4-e68a-4365-8a39-2fe24c542c36",
      "metadata": {
        "id": "5a0e32a4-e68a-4365-8a39-2fe24c542c36"
      },
      "outputs": [],
      "source": [
        "# текст запроса\n",
        "# В условие фильтрации передадим кортеж с городами-миллионниками\n",
        "query_5_7 = f'''with mill as (\n",
        "                    select\n",
        "                        a.name \"Город\",\n",
        "                        count(*) \"Количество вакансий\"\n",
        "                    from public.vacancies v\n",
        "                    join public.employers e on v.employer_id = e.id\n",
        "                    join public.areas a on v.area_id = a.id\n",
        "                    where e.name = 'Яндекс' and a.name in {cities}\n",
        "                    group by a.name\n",
        "                )\n",
        "                (\n",
        "                    select *\n",
        "                    from mill\n",
        "                )\n",
        "                union\n",
        "                (\n",
        "                    select 'total', sum(mill.\"Количество вакансий\")\n",
        "                    from mill\n",
        "                )\n",
        "                order by 2\n",
        "'''"
      ]
    },
    {
      "cell_type": "code",
      "execution_count": 38,
      "id": "ttPhiO1rsvPq",
      "metadata": {
        "id": "ttPhiO1rsvPq"
      },
      "outputs": [
        {
          "data": {
            "text/html": [
              "<div>\n",
              "<style scoped>\n",
              "    .dataframe tbody tr th:only-of-type {\n",
              "        vertical-align: middle;\n",
              "    }\n",
              "\n",
              "    .dataframe tbody tr th {\n",
              "        vertical-align: top;\n",
              "    }\n",
              "\n",
              "    .dataframe thead th {\n",
              "        text-align: right;\n",
              "    }\n",
              "</style>\n",
              "<table border=\"1\" class=\"dataframe\">\n",
              "  <thead>\n",
              "    <tr style=\"text-align: right;\">\n",
              "      <th></th>\n",
              "      <th>Город</th>\n",
              "      <th>Количество вакансий</th>\n",
              "    </tr>\n",
              "  </thead>\n",
              "  <tbody>\n",
              "    <tr>\n",
              "      <th>0</th>\n",
              "      <td>Омск</td>\n",
              "      <td>21.0</td>\n",
              "    </tr>\n",
              "    <tr>\n",
              "      <th>1</th>\n",
              "      <td>Челябинск</td>\n",
              "      <td>22.0</td>\n",
              "    </tr>\n",
              "    <tr>\n",
              "      <th>2</th>\n",
              "      <td>Красноярск</td>\n",
              "      <td>23.0</td>\n",
              "    </tr>\n",
              "    <tr>\n",
              "      <th>3</th>\n",
              "      <td>Волгоград</td>\n",
              "      <td>24.0</td>\n",
              "    </tr>\n",
              "    <tr>\n",
              "      <th>4</th>\n",
              "      <td>Пермь</td>\n",
              "      <td>25.0</td>\n",
              "    </tr>\n",
              "    <tr>\n",
              "      <th>5</th>\n",
              "      <td>Казань</td>\n",
              "      <td>25.0</td>\n",
              "    </tr>\n",
              "    <tr>\n",
              "      <th>6</th>\n",
              "      <td>Ростов-на-Дону</td>\n",
              "      <td>25.0</td>\n",
              "    </tr>\n",
              "    <tr>\n",
              "      <th>7</th>\n",
              "      <td>Уфа</td>\n",
              "      <td>26.0</td>\n",
              "    </tr>\n",
              "    <tr>\n",
              "      <th>8</th>\n",
              "      <td>Самара</td>\n",
              "      <td>26.0</td>\n",
              "    </tr>\n",
              "    <tr>\n",
              "      <th>9</th>\n",
              "      <td>Краснодар</td>\n",
              "      <td>30.0</td>\n",
              "    </tr>\n",
              "    <tr>\n",
              "      <th>10</th>\n",
              "      <td>Воронеж</td>\n",
              "      <td>32.0</td>\n",
              "    </tr>\n",
              "    <tr>\n",
              "      <th>11</th>\n",
              "      <td>Новосибирск</td>\n",
              "      <td>35.0</td>\n",
              "    </tr>\n",
              "    <tr>\n",
              "      <th>12</th>\n",
              "      <td>Нижний Новгород</td>\n",
              "      <td>36.0</td>\n",
              "    </tr>\n",
              "    <tr>\n",
              "      <th>13</th>\n",
              "      <td>Екатеринбург</td>\n",
              "      <td>39.0</td>\n",
              "    </tr>\n",
              "    <tr>\n",
              "      <th>14</th>\n",
              "      <td>Санкт-Петербург</td>\n",
              "      <td>42.0</td>\n",
              "    </tr>\n",
              "    <tr>\n",
              "      <th>15</th>\n",
              "      <td>Москва</td>\n",
              "      <td>54.0</td>\n",
              "    </tr>\n",
              "    <tr>\n",
              "      <th>16</th>\n",
              "      <td>total</td>\n",
              "      <td>485.0</td>\n",
              "    </tr>\n",
              "  </tbody>\n",
              "</table>\n",
              "</div>"
            ],
            "text/plain": [
              "              Город  Количество вакансий\n",
              "0              Омск                 21.0\n",
              "1         Челябинск                 22.0\n",
              "2        Красноярск                 23.0\n",
              "3         Волгоград                 24.0\n",
              "4             Пермь                 25.0\n",
              "5            Казань                 25.0\n",
              "6    Ростов-на-Дону                 25.0\n",
              "7               Уфа                 26.0\n",
              "8            Самара                 26.0\n",
              "9         Краснодар                 30.0\n",
              "10          Воронеж                 32.0\n",
              "11      Новосибирск                 35.0\n",
              "12  Нижний Новгород                 36.0\n",
              "13     Екатеринбург                 39.0\n",
              "14  Санкт-Петербург                 42.0\n",
              "15           Москва                 54.0\n",
              "16            total                485.0"
            ]
          },
          "execution_count": 38,
          "metadata": {},
          "output_type": "execute_result"
        }
      ],
      "source": [
        "# результат запроса\n",
        "df = pd.read_sql_query(query_5_7, connection)\n",
        "df"
      ]
    },
    {
      "attachments": {},
      "cell_type": "markdown",
      "id": "04966e40-3bc3-4dc8-9ba2-e80580ce3abc",
      "metadata": {
        "id": "04966e40-3bc3-4dc8-9ba2-e80580ce3abc"
      },
      "source": [
        "***"
      ]
    },
    {
      "attachments": {},
      "cell_type": "markdown",
      "id": "26a6fed8",
      "metadata": {},
      "source": [
        "Наибольшее число вакансий предоставляют наиболее развитые отрасли современной российской экономики. Среди лидеров по количеству вакансий - представители IT, нефтегазового и банковского секторов.\n",
        "\n",
        "Можно предположить, что крупные компании предоставляют вакансии в разных, в том числе небольших, регионах, однако данное утверждение требует более глубокого анализа. На примере Яндекса - лидера по количеству вакансий - можно увидеть, что в крупнейших городах суммарно всего 485 вакансий из более чем 1900."
      ]
    },
    {
      "attachments": {},
      "cell_type": "markdown",
      "id": "b1ef156a-efcb-49ce-bb23-90763e7f35b2",
      "metadata": {
        "id": "b1ef156a-efcb-49ce-bb23-90763e7f35b2",
        "tags": []
      },
      "source": [
        "# Юнит 6. Предметный анализ"
      ]
    },
    {
      "attachments": {},
      "cell_type": "markdown",
      "id": "b9cd50a0-992d-4988-8463-2b2b1c4629b4",
      "metadata": {
        "id": "b9cd50a0-992d-4988-8463-2b2b1c4629b4"
      },
      "source": [
        "1. Сколько вакансий имеет отношение к данным?\n",
        "\n",
        "Считаем, что вакансия имеет отношение к данным, если в её названии содержатся слова 'data' или 'данн'.\n",
        "\n",
        "*Подсказка: Обратите внимание, что названия вакансий могут быть написаны в любом регистре.* \n"
      ]
    },
    {
      "cell_type": "code",
      "execution_count": 39,
      "id": "54ab0e50-c0f1-47cc-a54b-bc5c8bc363f9",
      "metadata": {
        "id": "54ab0e50-c0f1-47cc-a54b-bc5c8bc363f9"
      },
      "outputs": [],
      "source": [
        "# текст запроса\n",
        "query_6_1 = f'''select count(*) \"Количество вакансий\"\n",
        "                from public.vacancies v\n",
        "                where lower(v.name) like '%data%' or lower(v.name) like '%данн%'\n",
        "'''"
      ]
    },
    {
      "cell_type": "code",
      "execution_count": 40,
      "id": "9F1meAqsuUjd",
      "metadata": {
        "id": "9F1meAqsuUjd"
      },
      "outputs": [
        {
          "data": {
            "text/html": [
              "<div>\n",
              "<style scoped>\n",
              "    .dataframe tbody tr th:only-of-type {\n",
              "        vertical-align: middle;\n",
              "    }\n",
              "\n",
              "    .dataframe tbody tr th {\n",
              "        vertical-align: top;\n",
              "    }\n",
              "\n",
              "    .dataframe thead th {\n",
              "        text-align: right;\n",
              "    }\n",
              "</style>\n",
              "<table border=\"1\" class=\"dataframe\">\n",
              "  <thead>\n",
              "    <tr style=\"text-align: right;\">\n",
              "      <th></th>\n",
              "      <th>Количество вакансий</th>\n",
              "    </tr>\n",
              "  </thead>\n",
              "  <tbody>\n",
              "    <tr>\n",
              "      <th>0</th>\n",
              "      <td>1771</td>\n",
              "    </tr>\n",
              "  </tbody>\n",
              "</table>\n",
              "</div>"
            ],
            "text/plain": [
              "   Количество вакансий\n",
              "0                 1771"
            ]
          },
          "execution_count": 40,
          "metadata": {},
          "output_type": "execute_result"
        }
      ],
      "source": [
        "# результат запроса\n",
        "df = pd.read_sql_query(query_6_1, connection)\n",
        "df"
      ]
    },
    {
      "attachments": {},
      "cell_type": "markdown",
      "id": "4dea20cb-a36b-474a-a0b9-e08e8e3857a5",
      "metadata": {
        "id": "4dea20cb-a36b-474a-a0b9-e08e8e3857a5"
      },
      "source": [
        "2. Сколько есть подходящих вакансий для начинающего дата-сайентиста? \n",
        "Будем считать вакансиями для дата-сайентистов такие, в названии которых есть хотя бы одно из следующих сочетаний:\n",
        "* 'data scientist'\n",
        "* 'data science'\n",
        "* 'исследователь данных'\n",
        "* 'ML' (здесь не нужно брать вакансии по HTML)\n",
        "* 'machine learning'\n",
        "* 'машинн%обучен%'\n",
        "\n",
        "** В следующих заданиях мы продолжим работать с вакансиями по этому условию.*\n",
        "\n",
        "Считаем вакансиями для специалистов уровня Junior следующие:\n",
        "* в названии есть слово 'junior' *или*\n",
        "* требуемый опыт — Нет опыта *или*\n",
        "* тип трудоустройства — Стажировка.\n",
        " "
      ]
    },
    {
      "cell_type": "code",
      "execution_count": 41,
      "id": "9c61b3c0-bb66-46c9-ae1e-81d3f5752b4a",
      "metadata": {
        "id": "9c61b3c0-bb66-46c9-ae1e-81d3f5752b4a"
      },
      "outputs": [],
      "source": [
        "# текст запроса\n",
        "# В запросе перечислим критерии попадания в выборку (за исключением случайного совпадения с HTML)\n",
        "query_6_2 = f'''select count(*)\n",
        "                from public.vacancies v\n",
        "                where (\n",
        "                        (\n",
        "                            lower(v.name) like '%data scientist%' \n",
        "                            or lower(v.name) like '%data science%' \n",
        "                            or lower(v.name) like '%исследователь данных%' \n",
        "                            or v.name like '%ML%'\n",
        "                            or lower(v.name) like '%machine learning%'\n",
        "                            or lower(v.name) like '%машинн%обучен%'\n",
        "                        )\n",
        "                        and lower(v.name) not like '%html%'\n",
        "                    ) and (\n",
        "                        lower(v.name) like '%junior%'\n",
        "                        or v.experience = 'Нет опыта'\n",
        "                        or v.employment = 'Стажировка'\n",
        "                    )\n",
        "'''"
      ]
    },
    {
      "cell_type": "code",
      "execution_count": 42,
      "id": "ZNM-LLYuu1dj",
      "metadata": {
        "id": "ZNM-LLYuu1dj"
      },
      "outputs": [
        {
          "data": {
            "text/html": [
              "<div>\n",
              "<style scoped>\n",
              "    .dataframe tbody tr th:only-of-type {\n",
              "        vertical-align: middle;\n",
              "    }\n",
              "\n",
              "    .dataframe tbody tr th {\n",
              "        vertical-align: top;\n",
              "    }\n",
              "\n",
              "    .dataframe thead th {\n",
              "        text-align: right;\n",
              "    }\n",
              "</style>\n",
              "<table border=\"1\" class=\"dataframe\">\n",
              "  <thead>\n",
              "    <tr style=\"text-align: right;\">\n",
              "      <th></th>\n",
              "      <th>count</th>\n",
              "    </tr>\n",
              "  </thead>\n",
              "  <tbody>\n",
              "    <tr>\n",
              "      <th>0</th>\n",
              "      <td>51</td>\n",
              "    </tr>\n",
              "  </tbody>\n",
              "</table>\n",
              "</div>"
            ],
            "text/plain": [
              "   count\n",
              "0     51"
            ]
          },
          "execution_count": 42,
          "metadata": {},
          "output_type": "execute_result"
        }
      ],
      "source": [
        "# результат запроса\n",
        "df = pd.read_sql_query(query_6_2, connection)\n",
        "df"
      ]
    },
    {
      "attachments": {},
      "cell_type": "markdown",
      "id": "eedceb80-c5ca-480e-b27a-278dfb8b4438",
      "metadata": {
        "id": "eedceb80-c5ca-480e-b27a-278dfb8b4438"
      },
      "source": [
        "3. Сколько есть вакансий для DS, в которых в качестве ключевого навыка указан SQL или postgres?\n",
        "\n",
        "** Критерии для отнесения вакансии к DS указаны в предыдущем задании.*"
      ]
    },
    {
      "cell_type": "code",
      "execution_count": 43,
      "id": "69621713-0cc5-4f1b-a1d7-bb144fa6148c",
      "metadata": {
        "id": "69621713-0cc5-4f1b-a1d7-bb144fa6148c"
      },
      "outputs": [],
      "source": [
        "# текст запроса\n",
        "query_6_3 = f'''select count(*)\n",
        "                from public.vacancies v\n",
        "                where (\n",
        "                        (\n",
        "                            lower(v.name) like '%data scientist%' \n",
        "                            or lower(v.name) like '%data science%' \n",
        "                            or lower(v.name) like '%исследователь данных%' \n",
        "                            or v.name like '%ML%'\n",
        "                            or lower(v.name) like '%machine learning%'\n",
        "                            or lower(v.name) like '%машинн%обучен%'\n",
        "                        )\n",
        "                        and lower(v.name) not like '%html%'\n",
        "                    ) and (\n",
        "                        lower(v.key_skills) like '%sql%'\n",
        "                        or lower(v.key_skills) like '%postgres%'\n",
        "                    )\n",
        "'''"
      ]
    },
    {
      "cell_type": "code",
      "execution_count": 44,
      "id": "alA8WEAAvGdf",
      "metadata": {
        "id": "alA8WEAAvGdf"
      },
      "outputs": [
        {
          "data": {
            "text/html": [
              "<div>\n",
              "<style scoped>\n",
              "    .dataframe tbody tr th:only-of-type {\n",
              "        vertical-align: middle;\n",
              "    }\n",
              "\n",
              "    .dataframe tbody tr th {\n",
              "        vertical-align: top;\n",
              "    }\n",
              "\n",
              "    .dataframe thead th {\n",
              "        text-align: right;\n",
              "    }\n",
              "</style>\n",
              "<table border=\"1\" class=\"dataframe\">\n",
              "  <thead>\n",
              "    <tr style=\"text-align: right;\">\n",
              "      <th></th>\n",
              "      <th>count</th>\n",
              "    </tr>\n",
              "  </thead>\n",
              "  <tbody>\n",
              "    <tr>\n",
              "      <th>0</th>\n",
              "      <td>201</td>\n",
              "    </tr>\n",
              "  </tbody>\n",
              "</table>\n",
              "</div>"
            ],
            "text/plain": [
              "   count\n",
              "0    201"
            ]
          },
          "execution_count": 44,
          "metadata": {},
          "output_type": "execute_result"
        }
      ],
      "source": [
        "# результат запроса\n",
        "df = pd.read_sql_query(query_6_3, connection)\n",
        "df"
      ]
    },
    {
      "attachments": {},
      "cell_type": "markdown",
      "id": "1be1e9c6-37cf-4a5f-bfeb-04cab799dc80",
      "metadata": {
        "id": "1be1e9c6-37cf-4a5f-bfeb-04cab799dc80"
      },
      "source": [
        "4. Проверьте, насколько популярен Python в требованиях работодателей к DS.Для этого вычислите количество вакансий, в которых в качестве ключевого навыка указан Python.\n",
        "\n",
        "** Это можно сделать помощью запроса, аналогичного предыдущему.*"
      ]
    },
    {
      "cell_type": "code",
      "execution_count": 45,
      "id": "0036a355-9ccf-4564-8b01-73d8194297e7",
      "metadata": {
        "id": "0036a355-9ccf-4564-8b01-73d8194297e7"
      },
      "outputs": [],
      "source": [
        "# текст запроса\n",
        "query_6_4 = f'''select count(*)\n",
        "                from public.vacancies v\n",
        "                where (\n",
        "                        (\n",
        "                            lower(v.name) like '%data scientist%' \n",
        "                            or lower(v.name) like '%data science%' \n",
        "                            or lower(v.name) like '%исследователь данных%' \n",
        "                            or v.name like '%ML%'\n",
        "                            or lower(v.name) like '%machine learning%'\n",
        "                            or lower(v.name) like '%машинн%обучен%'\n",
        "                        )\n",
        "                        and lower(v.name) not like '%html%'\n",
        "                    ) and (\n",
        "                        lower(v.key_skills) like '%python%'\n",
        "                    )\n",
        "'''"
      ]
    },
    {
      "cell_type": "code",
      "execution_count": 46,
      "id": "1i-5WyucvQ6v",
      "metadata": {
        "id": "1i-5WyucvQ6v"
      },
      "outputs": [
        {
          "data": {
            "text/html": [
              "<div>\n",
              "<style scoped>\n",
              "    .dataframe tbody tr th:only-of-type {\n",
              "        vertical-align: middle;\n",
              "    }\n",
              "\n",
              "    .dataframe tbody tr th {\n",
              "        vertical-align: top;\n",
              "    }\n",
              "\n",
              "    .dataframe thead th {\n",
              "        text-align: right;\n",
              "    }\n",
              "</style>\n",
              "<table border=\"1\" class=\"dataframe\">\n",
              "  <thead>\n",
              "    <tr style=\"text-align: right;\">\n",
              "      <th></th>\n",
              "      <th>count</th>\n",
              "    </tr>\n",
              "  </thead>\n",
              "  <tbody>\n",
              "    <tr>\n",
              "      <th>0</th>\n",
              "      <td>351</td>\n",
              "    </tr>\n",
              "  </tbody>\n",
              "</table>\n",
              "</div>"
            ],
            "text/plain": [
              "   count\n",
              "0    351"
            ]
          },
          "execution_count": 46,
          "metadata": {},
          "output_type": "execute_result"
        }
      ],
      "source": [
        "# результат запроса\n",
        "df = pd.read_sql_query(query_6_4, connection)\n",
        "df"
      ]
    },
    {
      "attachments": {},
      "cell_type": "markdown",
      "id": "ec3c8db7-fa21-4a41-a994-1af63742a642",
      "metadata": {
        "id": "ec3c8db7-fa21-4a41-a994-1af63742a642"
      },
      "source": [
        "5. Сколько ключевых навыков в среднем указывают в вакансиях для DS?\n",
        "Ответ округлите до двух знаков после точки-разделителя."
      ]
    },
    {
      "cell_type": "code",
      "execution_count": 47,
      "id": "949132bc-d5b6-4611-8218-0b9a504d74f4",
      "metadata": {
        "id": "949132bc-d5b6-4611-8218-0b9a504d74f4"
      },
      "outputs": [],
      "source": [
        "# текст запроса\n",
        "# Для определения количества ключевых навыков, в виду отсутствия прямого инструмента, воспользуемся разностью длинн строк\n",
        "# до вычитания символа табуляции и после\n",
        "query_6_5 = f'''select round(avg(length(v.key_skills) - length(replace(v.key_skills, CHR(9), '')) + 1), 2)\n",
        "                from public.vacancies v\n",
        "                where (\n",
        "                        (\n",
        "                            lower(v.name) like '%data scientist%' \n",
        "                            or lower(v.name) like '%data science%' \n",
        "                            or lower(v.name) like '%исследователь данных%' \n",
        "                            or v.name like '%ML%'\n",
        "                            or lower(v.name) like '%machine learning%'\n",
        "                            or lower(v.name) like '%машинн%обучен%'\n",
        "                        )\n",
        "                    and lower(v.name) not like '%html%'\n",
        "                )\n",
        "'''"
      ]
    },
    {
      "cell_type": "code",
      "execution_count": 48,
      "id": "a3V24Tvmviqk",
      "metadata": {
        "id": "a3V24Tvmviqk"
      },
      "outputs": [
        {
          "data": {
            "text/html": [
              "<div>\n",
              "<style scoped>\n",
              "    .dataframe tbody tr th:only-of-type {\n",
              "        vertical-align: middle;\n",
              "    }\n",
              "\n",
              "    .dataframe tbody tr th {\n",
              "        vertical-align: top;\n",
              "    }\n",
              "\n",
              "    .dataframe thead th {\n",
              "        text-align: right;\n",
              "    }\n",
              "</style>\n",
              "<table border=\"1\" class=\"dataframe\">\n",
              "  <thead>\n",
              "    <tr style=\"text-align: right;\">\n",
              "      <th></th>\n",
              "      <th>round</th>\n",
              "    </tr>\n",
              "  </thead>\n",
              "  <tbody>\n",
              "    <tr>\n",
              "      <th>0</th>\n",
              "      <td>6.41</td>\n",
              "    </tr>\n",
              "  </tbody>\n",
              "</table>\n",
              "</div>"
            ],
            "text/plain": [
              "   round\n",
              "0   6.41"
            ]
          },
          "execution_count": 48,
          "metadata": {},
          "output_type": "execute_result"
        }
      ],
      "source": [
        "# результат запроса\n",
        "df = pd.read_sql_query(query_6_5, connection)\n",
        "df"
      ]
    },
    {
      "attachments": {},
      "cell_type": "markdown",
      "id": "1041c17a-ca8f-4543-a0ca-32778914fb00",
      "metadata": {
        "id": "1041c17a-ca8f-4543-a0ca-32778914fb00"
      },
      "source": [
        "6. Напишите запрос, позволяющий вычислить, какую зарплату для DS в **среднем** указывают для каждого типа требуемого опыта (уникальное значение из поля *experience*). \n",
        "\n",
        "При решении задачи примите во внимание следующее:\n",
        "1. Рассматриваем только вакансии, у которых заполнено хотя бы одно из двух полей с зарплатой.\n",
        "2. Если заполнены оба поля с зарплатой, то считаем зарплату по каждой вакансии как сумму двух полей, делённую на 2. Если заполнено только одно из полей, то его и считаем зарплатой по вакансии.\n",
        "3. Если в расчётах участвует null, в результате он тоже даст null (посмотрите, что возвращает запрос select 1 + null). Чтобы избежать этой ситуацию, мы воспользуемся функцией [coalesce](https://postgrespro.ru/docs/postgresql/9.5/functions-conditional#functions-coalesce-nvl-ifnull), которая заменит null на значение, которое мы передадим. Например, посмотрите, что возвращает запрос `select 1 + coalesce(null, 0)`\n",
        "\n",
        "Выясните, на какую зарплату в среднем может рассчитывать дата-сайентист с опытом работы от 3 до 6 лет. Результат округлите до целого числа. "
      ]
    },
    {
      "cell_type": "code",
      "execution_count": 49,
      "id": "6a743d39-5204-48d3-8271-b9f88e68d40e",
      "metadata": {
        "id": "6a743d39-5204-48d3-8271-b9f88e68d40e"
      },
      "outputs": [],
      "source": [
        "# текст запроса\n",
        "# Примечание: в виду выбранного способа (union), для избежания дублирования кусков кода рационально было сформировать новую таблицу, куда вошла фильтрация вакансий\n",
        "query_6_6 = f'''with ds as (\n",
        "                    select *\n",
        "                    from public.vacancies v\n",
        "                    where (\n",
        "                            (\n",
        "                                lower(v.name) like '%data scientist%' \n",
        "                                or lower(v.name) like '%data science%' \n",
        "                                or lower(v.name) like '%исследователь данных%' \n",
        "                                or v.name like '%ML%'\n",
        "                                or lower(v.name) like '%machine learning%'\n",
        "                                or lower(v.name) like '%машинн%обучен%'\n",
        "                            )\n",
        "                        and lower(v.name) not like '%html%'\n",
        "                    )\n",
        "                )\n",
        "                select experience, round(avg(medium_salary))\n",
        "                from\n",
        "                (                    \n",
        "                    (\n",
        "                        select experience, (coalesce(salary_from, 0) + coalesce(salary_to, 0)) / 2 as medium_salary\n",
        "                        from ds\n",
        "                        where (salary_from is not null) and (salary_to is not null)\n",
        "                    )                    \n",
        "                    union all                    \n",
        "                    (\n",
        "                        select experience, coalesce(salary_from, 0)\n",
        "                        from ds\n",
        "                        where (salary_from is not null) and (salary_to is null)\n",
        "                    )                    \n",
        "                    union all                    \n",
        "                    (\n",
        "                        select experience, coalesce(salary_to, 0)\n",
        "                        from ds\n",
        "                        where (salary_from is null) and (salary_to is not null)\n",
        "                    )   \n",
        "                ) as result\n",
        "                group by experience\n",
        "                order by 1\n",
        "'''"
      ]
    },
    {
      "cell_type": "code",
      "execution_count": 50,
      "id": "aRIJ0mZEwU1_",
      "metadata": {
        "id": "aRIJ0mZEwU1_"
      },
      "outputs": [
        {
          "data": {
            "text/html": [
              "<div>\n",
              "<style scoped>\n",
              "    .dataframe tbody tr th:only-of-type {\n",
              "        vertical-align: middle;\n",
              "    }\n",
              "\n",
              "    .dataframe tbody tr th {\n",
              "        vertical-align: top;\n",
              "    }\n",
              "\n",
              "    .dataframe thead th {\n",
              "        text-align: right;\n",
              "    }\n",
              "</style>\n",
              "<table border=\"1\" class=\"dataframe\">\n",
              "  <thead>\n",
              "    <tr style=\"text-align: right;\">\n",
              "      <th></th>\n",
              "      <th>experience</th>\n",
              "      <th>round</th>\n",
              "    </tr>\n",
              "  </thead>\n",
              "  <tbody>\n",
              "    <tr>\n",
              "      <th>0</th>\n",
              "      <td>Нет опыта</td>\n",
              "      <td>74643.0</td>\n",
              "    </tr>\n",
              "    <tr>\n",
              "      <th>1</th>\n",
              "      <td>От 1 года до 3 лет</td>\n",
              "      <td>139675.0</td>\n",
              "    </tr>\n",
              "    <tr>\n",
              "      <th>2</th>\n",
              "      <td>От 3 до 6 лет</td>\n",
              "      <td>243115.0</td>\n",
              "    </tr>\n",
              "  </tbody>\n",
              "</table>\n",
              "</div>"
            ],
            "text/plain": [
              "           experience     round\n",
              "0           Нет опыта   74643.0\n",
              "1  От 1 года до 3 лет  139675.0\n",
              "2       От 3 до 6 лет  243115.0"
            ]
          },
          "execution_count": 50,
          "metadata": {},
          "output_type": "execute_result"
        }
      ],
      "source": [
        "# результат запроса\n",
        "df = pd.read_sql_query(query_6_6, connection)\n",
        "df"
      ]
    },
    {
      "attachments": {},
      "cell_type": "markdown",
      "id": "6a7892b4-4113-4746-adce-18aa2844f18e",
      "metadata": {
        "id": "6a7892b4-4113-4746-adce-18aa2844f18e"
      },
      "source": [
        "***"
      ]
    },
    {
      "attachments": {},
      "cell_type": "markdown",
      "id": "eefdcdee",
      "metadata": {},
      "source": [
        "Как следует из анализа, менее 1800 вакансий из более чем 49 тысяч имеют отношение к работе с данными. Это почти 4%. Достаточно большая доля, если учесть огромное многообразие различных направлений человеческой деятельности. Именно с DS и ML связано примерно 430 вакансий, 50 из которых - для специалистов без опыта. Если добавить ко всему этому относительно высокую заработную плату, то мы имеем весьма перспективное и открытое для возможностей направление."
      ]
    },
    {
      "attachments": {},
      "cell_type": "markdown",
      "id": "c0ED6fh7wiBT",
      "metadata": {
        "id": "c0ED6fh7wiBT"
      },
      "source": [
        "# Общий вывод по проекту"
      ]
    },
    {
      "attachments": {},
      "cell_type": "markdown",
      "id": "fd9fe065",
      "metadata": {},
      "source": [
        "Обобщая результаты анализов, можно сказать, что рынок предоставляет достаточно широкие возможности для реализации начинающих специалистов в Data Science в широком смысле этого термина. Можно отдельно отметить весьма быстрый рост заработной платы в зависимости от опыта, а возможности трудоустройства есть не только в мегаполисах, но и в небольших населенных пунктах"
      ]
    },
    {
      "attachments": {},
      "cell_type": "markdown",
      "id": "06483c5b",
      "metadata": {},
      "source": [
        "# Дополнительные исследования"
      ]
    },
    {
      "cell_type": "code",
      "execution_count": 52,
      "id": "f82df4bc",
      "metadata": {},
      "outputs": [],
      "source": [
        "# Запросим с сервера таблицу, аналогичную предыдущему заданию, но без группировки и \"склеенную\" с таблицей регионов (areas)\n",
        "query_add_1 = f'''with ds as (\n",
        "                    select *\n",
        "                    from public.vacancies v\n",
        "                    where (\n",
        "                            (\n",
        "                                lower(v.name) like '%data scientist%' \n",
        "                                or lower(v.name) like '%data science%' \n",
        "                                or lower(v.name) like '%исследователь данных%' \n",
        "                                or v.name like '%ML%'\n",
        "                                or lower(v.name) like '%machine learning%'\n",
        "                                or lower(v.name) like '%машинн%обучен%'\n",
        "                            )\n",
        "                        and lower(v.name) not like '%html%'\n",
        "                    )\n",
        "                )\n",
        "                select *\n",
        "                from\n",
        "                (                    \n",
        "                    (\n",
        "                        select *, (coalesce(salary_from, 0) + coalesce(salary_to, 0)) / 2 as average_salary\n",
        "                        from ds\n",
        "                        where (salary_from is not null) and (salary_to is not null)\n",
        "                    )                    \n",
        "                    union all                    \n",
        "                    (\n",
        "                        select *, coalesce(salary_from, 0)\n",
        "                        from ds\n",
        "                        where (salary_from is not null) and (salary_to is null)\n",
        "                    )                    \n",
        "                    union all                    \n",
        "                    (\n",
        "                        select *, coalesce(salary_to, 0)\n",
        "                        from ds\n",
        "                        where (salary_from is null) and (salary_to is not null)\n",
        "                    )   \n",
        "                ) as result\n",
        "                left join public.areas a on result.area_id = a.id\n",
        "'''"
      ]
    },
    {
      "cell_type": "code",
      "execution_count": 53,
      "id": "261b6d4c",
      "metadata": {},
      "outputs": [
        {
          "data": {
            "text/html": [
              "<div>\n",
              "<style scoped>\n",
              "    .dataframe tbody tr th:only-of-type {\n",
              "        vertical-align: middle;\n",
              "    }\n",
              "\n",
              "    .dataframe tbody tr th {\n",
              "        vertical-align: top;\n",
              "    }\n",
              "\n",
              "    .dataframe thead th {\n",
              "        text-align: right;\n",
              "    }\n",
              "</style>\n",
              "<table border=\"1\" class=\"dataframe\">\n",
              "  <thead>\n",
              "    <tr style=\"text-align: right;\">\n",
              "      <th></th>\n",
              "      <th>id</th>\n",
              "      <th>name</th>\n",
              "      <th>key_skills</th>\n",
              "      <th>schedule</th>\n",
              "      <th>experience</th>\n",
              "      <th>employment</th>\n",
              "      <th>salary_from</th>\n",
              "      <th>salary_to</th>\n",
              "      <th>area_id</th>\n",
              "      <th>employer_id</th>\n",
              "      <th>average_salary</th>\n",
              "      <th>id</th>\n",
              "      <th>name</th>\n",
              "    </tr>\n",
              "  </thead>\n",
              "  <tbody>\n",
              "    <tr>\n",
              "      <th>0</th>\n",
              "      <td>55534594</td>\n",
              "      <td>Middle/Senior ML Specialist</td>\n",
              "      <td>Python\\tOpenCV\\tPyTorch\\tGit\\tDocker\\tCUDA\\tGs...</td>\n",
              "      <td>Полный день</td>\n",
              "      <td>От 1 года до 3 лет</td>\n",
              "      <td>Полная занятость</td>\n",
              "      <td>NaN</td>\n",
              "      <td>175000.0</td>\n",
              "      <td>2</td>\n",
              "      <td>143439</td>\n",
              "      <td>175000</td>\n",
              "      <td>2</td>\n",
              "      <td>Санкт-Петербург</td>\n",
              "    </tr>\n",
              "    <tr>\n",
              "      <th>1</th>\n",
              "      <td>55552998</td>\n",
              "      <td>Математик-аналитик (data scientist / data anal...</td>\n",
              "      <td>Python\\tМатематическая статистика\\tПрогнозиров...</td>\n",
              "      <td>Полный день</td>\n",
              "      <td>Нет опыта</td>\n",
              "      <td>Полная занятость</td>\n",
              "      <td>NaN</td>\n",
              "      <td>98000.0</td>\n",
              "      <td>2</td>\n",
              "      <td>2954482</td>\n",
              "      <td>98000</td>\n",
              "      <td>2</td>\n",
              "      <td>Санкт-Петербург</td>\n",
              "    </tr>\n",
              "    <tr>\n",
              "      <th>2</th>\n",
              "      <td>54998664</td>\n",
              "      <td>Machine Learning Engineer</td>\n",
              "      <td>Python\\tPyTorch\\tTensorflow\\tDeep Learning\\tCl...</td>\n",
              "      <td>Удаленная работа</td>\n",
              "      <td>От 1 года до 3 лет</td>\n",
              "      <td>Полная занятость</td>\n",
              "      <td>175346.0</td>\n",
              "      <td>NaN</td>\n",
              "      <td>2</td>\n",
              "      <td>4431300</td>\n",
              "      <td>175346</td>\n",
              "      <td>2</td>\n",
              "      <td>Санкт-Петербург</td>\n",
              "    </tr>\n",
              "    <tr>\n",
              "      <th>3</th>\n",
              "      <td>54795186</td>\n",
              "      <td>Data Scientist</td>\n",
              "      <td>PyTorch\\tPython\\tTensorflow\\tComputer Vision\\t...</td>\n",
              "      <td>Полный день</td>\n",
              "      <td>От 3 до 6 лет</td>\n",
              "      <td>Полная занятость</td>\n",
              "      <td>300000.0</td>\n",
              "      <td>NaN</td>\n",
              "      <td>2</td>\n",
              "      <td>4373268</td>\n",
              "      <td>300000</td>\n",
              "      <td>2</td>\n",
              "      <td>Санкт-Петербург</td>\n",
              "    </tr>\n",
              "    <tr>\n",
              "      <th>4</th>\n",
              "      <td>55145641</td>\n",
              "      <td>Junior Data Scientist</td>\n",
              "      <td>Python\\tSQL\\tMachine Learning\\tData Science\\tА...</td>\n",
              "      <td>Полный день</td>\n",
              "      <td>Нет опыта</td>\n",
              "      <td>Полная занятость</td>\n",
              "      <td>50000.0</td>\n",
              "      <td>NaN</td>\n",
              "      <td>2</td>\n",
              "      <td>40938</td>\n",
              "      <td>50000</td>\n",
              "      <td>2</td>\n",
              "      <td>Санкт-Петербург</td>\n",
              "    </tr>\n",
              "    <tr>\n",
              "      <th>...</th>\n",
              "      <td>...</td>\n",
              "      <td>...</td>\n",
              "      <td>...</td>\n",
              "      <td>...</td>\n",
              "      <td>...</td>\n",
              "      <td>...</td>\n",
              "      <td>...</td>\n",
              "      <td>...</td>\n",
              "      <td>...</td>\n",
              "      <td>...</td>\n",
              "      <td>...</td>\n",
              "      <td>...</td>\n",
              "      <td>...</td>\n",
              "    </tr>\n",
              "    <tr>\n",
              "      <th>57</th>\n",
              "      <td>55053176</td>\n",
              "      <td>Data Scientist (Machine Learning)</td>\n",
              "      <td>Python/R\\tData Scientist\\tMachine Learning</td>\n",
              "      <td>Полный день</td>\n",
              "      <td>От 3 до 6 лет</td>\n",
              "      <td>Полная занятость</td>\n",
              "      <td>NaN</td>\n",
              "      <td>222104.0</td>\n",
              "      <td>13</td>\n",
              "      <td>851604</td>\n",
              "      <td>222104</td>\n",
              "      <td>13</td>\n",
              "      <td>Армения</td>\n",
              "    </tr>\n",
              "    <tr>\n",
              "      <th>58</th>\n",
              "      <td>55034373</td>\n",
              "      <td>Machine Learning Engineer</td>\n",
              "      <td>Python\\tAWS\\tKubernetes\\tAzure\\tMachine Learni...</td>\n",
              "      <td>Полный день</td>\n",
              "      <td>От 3 до 6 лет</td>\n",
              "      <td>Полная занятость</td>\n",
              "      <td>NaN</td>\n",
              "      <td>292242.0</td>\n",
              "      <td>13</td>\n",
              "      <td>851604</td>\n",
              "      <td>292242</td>\n",
              "      <td>13</td>\n",
              "      <td>Армения</td>\n",
              "    </tr>\n",
              "    <tr>\n",
              "      <th>59</th>\n",
              "      <td>54684143</td>\n",
              "      <td>Data Scientist / Data Analyst в области иннова...</td>\n",
              "      <td>Python\\tSQL\\tPower BI\\tGit\\tАналитическое мышл...</td>\n",
              "      <td>Полный день</td>\n",
              "      <td>От 1 года до 3 лет</td>\n",
              "      <td>Полная занятость</td>\n",
              "      <td>NaN</td>\n",
              "      <td>130000.0</td>\n",
              "      <td>2090</td>\n",
              "      <td>40678</td>\n",
              "      <td>130000</td>\n",
              "      <td>2090</td>\n",
              "      <td>Королев</td>\n",
              "    </tr>\n",
              "    <tr>\n",
              "      <th>60</th>\n",
              "      <td>55313995</td>\n",
              "      <td>C++ Machine Learning Engineer (Computer Vision)</td>\n",
              "      <td>Computer Vision\\tC/C++\\tMachine learning</td>\n",
              "      <td>Удаленная работа</td>\n",
              "      <td>От 3 до 6 лет</td>\n",
              "      <td>Полная занятость</td>\n",
              "      <td>NaN</td>\n",
              "      <td>233794.0</td>\n",
              "      <td>5046</td>\n",
              "      <td>5970808</td>\n",
              "      <td>233794</td>\n",
              "      <td>5046</td>\n",
              "      <td>Черногория</td>\n",
              "    </tr>\n",
              "    <tr>\n",
              "      <th>61</th>\n",
              "      <td>55313994</td>\n",
              "      <td>C++ Machine Learning Engineer (Computer Vision)</td>\n",
              "      <td>Computer Vision\\tC/C++\\tMachine learning</td>\n",
              "      <td>Удаленная работа</td>\n",
              "      <td>От 3 до 6 лет</td>\n",
              "      <td>Полная занятость</td>\n",
              "      <td>NaN</td>\n",
              "      <td>233794.0</td>\n",
              "      <td>146</td>\n",
              "      <td>5970808</td>\n",
              "      <td>233794</td>\n",
              "      <td>146</td>\n",
              "      <td>Сербия</td>\n",
              "    </tr>\n",
              "  </tbody>\n",
              "</table>\n",
              "<p>62 rows × 13 columns</p>\n",
              "</div>"
            ],
            "text/plain": [
              "          id                                               name  \\\n",
              "0   55534594                        Middle/Senior ML Specialist   \n",
              "1   55552998  Математик-аналитик (data scientist / data anal...   \n",
              "2   54998664                          Machine Learning Engineer   \n",
              "3   54795186                                     Data Scientist   \n",
              "4   55145641                              Junior Data Scientist   \n",
              "..       ...                                                ...   \n",
              "57  55053176                  Data Scientist (Machine Learning)   \n",
              "58  55034373                          Machine Learning Engineer   \n",
              "59  54684143  Data Scientist / Data Analyst в области иннова...   \n",
              "60  55313995    C++ Machine Learning Engineer (Computer Vision)   \n",
              "61  55313994    C++ Machine Learning Engineer (Computer Vision)   \n",
              "\n",
              "                                           key_skills          schedule  \\\n",
              "0   Python\\tOpenCV\\tPyTorch\\tGit\\tDocker\\tCUDA\\tGs...       Полный день   \n",
              "1   Python\\tМатематическая статистика\\tПрогнозиров...       Полный день   \n",
              "2   Python\\tPyTorch\\tTensorflow\\tDeep Learning\\tCl...  Удаленная работа   \n",
              "3   PyTorch\\tPython\\tTensorflow\\tComputer Vision\\t...       Полный день   \n",
              "4   Python\\tSQL\\tMachine Learning\\tData Science\\tА...       Полный день   \n",
              "..                                                ...               ...   \n",
              "57         Python/R\\tData Scientist\\tMachine Learning       Полный день   \n",
              "58  Python\\tAWS\\tKubernetes\\tAzure\\tMachine Learni...       Полный день   \n",
              "59  Python\\tSQL\\tPower BI\\tGit\\tАналитическое мышл...       Полный день   \n",
              "60           Computer Vision\\tC/C++\\tMachine learning  Удаленная работа   \n",
              "61           Computer Vision\\tC/C++\\tMachine learning  Удаленная работа   \n",
              "\n",
              "            experience        employment  salary_from  salary_to  area_id  \\\n",
              "0   От 1 года до 3 лет  Полная занятость          NaN   175000.0        2   \n",
              "1            Нет опыта  Полная занятость          NaN    98000.0        2   \n",
              "2   От 1 года до 3 лет  Полная занятость     175346.0        NaN        2   \n",
              "3        От 3 до 6 лет  Полная занятость     300000.0        NaN        2   \n",
              "4            Нет опыта  Полная занятость      50000.0        NaN        2   \n",
              "..                 ...               ...          ...        ...      ...   \n",
              "57       От 3 до 6 лет  Полная занятость          NaN   222104.0       13   \n",
              "58       От 3 до 6 лет  Полная занятость          NaN   292242.0       13   \n",
              "59  От 1 года до 3 лет  Полная занятость          NaN   130000.0     2090   \n",
              "60       От 3 до 6 лет  Полная занятость          NaN   233794.0     5046   \n",
              "61       От 3 до 6 лет  Полная занятость          NaN   233794.0      146   \n",
              "\n",
              "    employer_id  average_salary    id             name  \n",
              "0        143439          175000     2  Санкт-Петербург  \n",
              "1       2954482           98000     2  Санкт-Петербург  \n",
              "2       4431300          175346     2  Санкт-Петербург  \n",
              "3       4373268          300000     2  Санкт-Петербург  \n",
              "4         40938           50000     2  Санкт-Петербург  \n",
              "..          ...             ...   ...              ...  \n",
              "57       851604          222104    13          Армения  \n",
              "58       851604          292242    13          Армения  \n",
              "59        40678          130000  2090          Королев  \n",
              "60      5970808          233794  5046       Черногория  \n",
              "61      5970808          233794   146           Сербия  \n",
              "\n",
              "[62 rows x 13 columns]"
            ]
          },
          "metadata": {},
          "output_type": "display_data"
        },
        {
          "name": "stdout",
          "output_type": "stream",
          "text": [
            "<class 'pandas.core.frame.DataFrame'>\n",
            "RangeIndex: 62 entries, 0 to 61\n",
            "Data columns (total 13 columns):\n",
            " #   Column          Non-Null Count  Dtype  \n",
            "---  ------          --------------  -----  \n",
            " 0   id              62 non-null     int64  \n",
            " 1   name            62 non-null     object \n",
            " 2   key_skills      58 non-null     object \n",
            " 3   schedule        62 non-null     object \n",
            " 4   experience      62 non-null     object \n",
            " 5   employment      62 non-null     object \n",
            " 6   salary_from     46 non-null     float64\n",
            " 7   salary_to       44 non-null     float64\n",
            " 8   area_id         62 non-null     int64  \n",
            " 9   employer_id     62 non-null     int64  \n",
            " 10  average_salary  62 non-null     int64  \n",
            " 11  id              62 non-null     int64  \n",
            " 12  name            62 non-null     object \n",
            "dtypes: float64(2), int64(5), object(6)\n",
            "memory usage: 6.4+ KB\n"
          ]
        }
      ],
      "source": [
        "# результат запроса\n",
        "df = pd.read_sql_query(query_add_1, connection)\n",
        "display(df)\n",
        "df.info()"
      ]
    },
    {
      "cell_type": "code",
      "execution_count": 54,
      "id": "56820aa9",
      "metadata": {},
      "outputs": [
        {
          "data": {
            "text/html": [
              "<div>\n",
              "<style scoped>\n",
              "    .dataframe tbody tr th:only-of-type {\n",
              "        vertical-align: middle;\n",
              "    }\n",
              "\n",
              "    .dataframe tbody tr th {\n",
              "        vertical-align: top;\n",
              "    }\n",
              "\n",
              "    .dataframe thead th {\n",
              "        text-align: right;\n",
              "    }\n",
              "</style>\n",
              "<table border=\"1\" class=\"dataframe\">\n",
              "  <thead>\n",
              "    <tr style=\"text-align: right;\">\n",
              "      <th></th>\n",
              "      <th>Название вакансии</th>\n",
              "      <th>Ключевые навыки</th>\n",
              "      <th>График</th>\n",
              "      <th>Опыт работы</th>\n",
              "      <th>Занятость</th>\n",
              "      <th>ЗП от, руб.</th>\n",
              "      <th>ЗП до, руб.</th>\n",
              "      <th>Средняя ЗП, руб.</th>\n",
              "      <th>Регион</th>\n",
              "    </tr>\n",
              "  </thead>\n",
              "  <tbody>\n",
              "    <tr>\n",
              "      <th>0</th>\n",
              "      <td>Middle/Senior ML Specialist</td>\n",
              "      <td>Python\\tOpenCV\\tPyTorch\\tGit\\tDocker\\tCUDA\\tGs...</td>\n",
              "      <td>Полный день</td>\n",
              "      <td>От 1 года до 3 лет</td>\n",
              "      <td>Полная занятость</td>\n",
              "      <td>NaN</td>\n",
              "      <td>175000.0</td>\n",
              "      <td>175000</td>\n",
              "      <td>Санкт-Петербург</td>\n",
              "    </tr>\n",
              "    <tr>\n",
              "      <th>1</th>\n",
              "      <td>Математик-аналитик (data scientist / data anal...</td>\n",
              "      <td>Python\\tМатематическая статистика\\tПрогнозиров...</td>\n",
              "      <td>Полный день</td>\n",
              "      <td>Нет опыта</td>\n",
              "      <td>Полная занятость</td>\n",
              "      <td>NaN</td>\n",
              "      <td>98000.0</td>\n",
              "      <td>98000</td>\n",
              "      <td>Санкт-Петербург</td>\n",
              "    </tr>\n",
              "    <tr>\n",
              "      <th>2</th>\n",
              "      <td>Machine Learning Engineer</td>\n",
              "      <td>Python\\tPyTorch\\tTensorflow\\tDeep Learning\\tCl...</td>\n",
              "      <td>Удаленная работа</td>\n",
              "      <td>От 1 года до 3 лет</td>\n",
              "      <td>Полная занятость</td>\n",
              "      <td>175346.0</td>\n",
              "      <td>NaN</td>\n",
              "      <td>175346</td>\n",
              "      <td>Санкт-Петербург</td>\n",
              "    </tr>\n",
              "    <tr>\n",
              "      <th>3</th>\n",
              "      <td>Data Scientist</td>\n",
              "      <td>PyTorch\\tPython\\tTensorflow\\tComputer Vision\\t...</td>\n",
              "      <td>Полный день</td>\n",
              "      <td>От 3 до 6 лет</td>\n",
              "      <td>Полная занятость</td>\n",
              "      <td>300000.0</td>\n",
              "      <td>NaN</td>\n",
              "      <td>300000</td>\n",
              "      <td>Санкт-Петербург</td>\n",
              "    </tr>\n",
              "    <tr>\n",
              "      <th>4</th>\n",
              "      <td>Junior Data Scientist</td>\n",
              "      <td>Python\\tSQL\\tMachine Learning\\tData Science\\tА...</td>\n",
              "      <td>Полный день</td>\n",
              "      <td>Нет опыта</td>\n",
              "      <td>Полная занятость</td>\n",
              "      <td>50000.0</td>\n",
              "      <td>NaN</td>\n",
              "      <td>50000</td>\n",
              "      <td>Санкт-Петербург</td>\n",
              "    </tr>\n",
              "    <tr>\n",
              "      <th>...</th>\n",
              "      <td>...</td>\n",
              "      <td>...</td>\n",
              "      <td>...</td>\n",
              "      <td>...</td>\n",
              "      <td>...</td>\n",
              "      <td>...</td>\n",
              "      <td>...</td>\n",
              "      <td>...</td>\n",
              "      <td>...</td>\n",
              "    </tr>\n",
              "    <tr>\n",
              "      <th>57</th>\n",
              "      <td>Data Scientist (Machine Learning)</td>\n",
              "      <td>Python/R\\tData Scientist\\tMachine Learning</td>\n",
              "      <td>Полный день</td>\n",
              "      <td>От 3 до 6 лет</td>\n",
              "      <td>Полная занятость</td>\n",
              "      <td>NaN</td>\n",
              "      <td>222104.0</td>\n",
              "      <td>222104</td>\n",
              "      <td>Армения</td>\n",
              "    </tr>\n",
              "    <tr>\n",
              "      <th>58</th>\n",
              "      <td>Machine Learning Engineer</td>\n",
              "      <td>Python\\tAWS\\tKubernetes\\tAzure\\tMachine Learni...</td>\n",
              "      <td>Полный день</td>\n",
              "      <td>От 3 до 6 лет</td>\n",
              "      <td>Полная занятость</td>\n",
              "      <td>NaN</td>\n",
              "      <td>292242.0</td>\n",
              "      <td>292242</td>\n",
              "      <td>Армения</td>\n",
              "    </tr>\n",
              "    <tr>\n",
              "      <th>59</th>\n",
              "      <td>Data Scientist / Data Analyst в области иннова...</td>\n",
              "      <td>Python\\tSQL\\tPower BI\\tGit\\tАналитическое мышл...</td>\n",
              "      <td>Полный день</td>\n",
              "      <td>От 1 года до 3 лет</td>\n",
              "      <td>Полная занятость</td>\n",
              "      <td>NaN</td>\n",
              "      <td>130000.0</td>\n",
              "      <td>130000</td>\n",
              "      <td>Королев</td>\n",
              "    </tr>\n",
              "    <tr>\n",
              "      <th>60</th>\n",
              "      <td>C++ Machine Learning Engineer (Computer Vision)</td>\n",
              "      <td>Computer Vision\\tC/C++\\tMachine learning</td>\n",
              "      <td>Удаленная работа</td>\n",
              "      <td>От 3 до 6 лет</td>\n",
              "      <td>Полная занятость</td>\n",
              "      <td>NaN</td>\n",
              "      <td>233794.0</td>\n",
              "      <td>233794</td>\n",
              "      <td>Черногория</td>\n",
              "    </tr>\n",
              "    <tr>\n",
              "      <th>61</th>\n",
              "      <td>C++ Machine Learning Engineer (Computer Vision)</td>\n",
              "      <td>Computer Vision\\tC/C++\\tMachine learning</td>\n",
              "      <td>Удаленная работа</td>\n",
              "      <td>От 3 до 6 лет</td>\n",
              "      <td>Полная занятость</td>\n",
              "      <td>NaN</td>\n",
              "      <td>233794.0</td>\n",
              "      <td>233794</td>\n",
              "      <td>Сербия</td>\n",
              "    </tr>\n",
              "  </tbody>\n",
              "</table>\n",
              "<p>62 rows × 9 columns</p>\n",
              "</div>"
            ],
            "text/plain": [
              "                                    Название вакансии  \\\n",
              "0                         Middle/Senior ML Specialist   \n",
              "1   Математик-аналитик (data scientist / data anal...   \n",
              "2                           Machine Learning Engineer   \n",
              "3                                      Data Scientist   \n",
              "4                               Junior Data Scientist   \n",
              "..                                                ...   \n",
              "57                  Data Scientist (Machine Learning)   \n",
              "58                          Machine Learning Engineer   \n",
              "59  Data Scientist / Data Analyst в области иннова...   \n",
              "60    C++ Machine Learning Engineer (Computer Vision)   \n",
              "61    C++ Machine Learning Engineer (Computer Vision)   \n",
              "\n",
              "                                      Ключевые навыки            График  \\\n",
              "0   Python\\tOpenCV\\tPyTorch\\tGit\\tDocker\\tCUDA\\tGs...       Полный день   \n",
              "1   Python\\tМатематическая статистика\\tПрогнозиров...       Полный день   \n",
              "2   Python\\tPyTorch\\tTensorflow\\tDeep Learning\\tCl...  Удаленная работа   \n",
              "3   PyTorch\\tPython\\tTensorflow\\tComputer Vision\\t...       Полный день   \n",
              "4   Python\\tSQL\\tMachine Learning\\tData Science\\tА...       Полный день   \n",
              "..                                                ...               ...   \n",
              "57         Python/R\\tData Scientist\\tMachine Learning       Полный день   \n",
              "58  Python\\tAWS\\tKubernetes\\tAzure\\tMachine Learni...       Полный день   \n",
              "59  Python\\tSQL\\tPower BI\\tGit\\tАналитическое мышл...       Полный день   \n",
              "60           Computer Vision\\tC/C++\\tMachine learning  Удаленная работа   \n",
              "61           Computer Vision\\tC/C++\\tMachine learning  Удаленная работа   \n",
              "\n",
              "           Опыт работы         Занятость  ЗП от, руб.  ЗП до, руб.  \\\n",
              "0   От 1 года до 3 лет  Полная занятость          NaN     175000.0   \n",
              "1            Нет опыта  Полная занятость          NaN      98000.0   \n",
              "2   От 1 года до 3 лет  Полная занятость     175346.0          NaN   \n",
              "3        От 3 до 6 лет  Полная занятость     300000.0          NaN   \n",
              "4            Нет опыта  Полная занятость      50000.0          NaN   \n",
              "..                 ...               ...          ...          ...   \n",
              "57       От 3 до 6 лет  Полная занятость          NaN     222104.0   \n",
              "58       От 3 до 6 лет  Полная занятость          NaN     292242.0   \n",
              "59  От 1 года до 3 лет  Полная занятость          NaN     130000.0   \n",
              "60       От 3 до 6 лет  Полная занятость          NaN     233794.0   \n",
              "61       От 3 до 6 лет  Полная занятость          NaN     233794.0   \n",
              "\n",
              "    Средняя ЗП, руб.           Регион  \n",
              "0             175000  Санкт-Петербург  \n",
              "1              98000  Санкт-Петербург  \n",
              "2             175346  Санкт-Петербург  \n",
              "3             300000  Санкт-Петербург  \n",
              "4              50000  Санкт-Петербург  \n",
              "..               ...              ...  \n",
              "57            222104          Армения  \n",
              "58            292242          Армения  \n",
              "59            130000          Королев  \n",
              "60            233794       Черногория  \n",
              "61            233794           Сербия  \n",
              "\n",
              "[62 rows x 9 columns]"
            ]
          },
          "metadata": {},
          "output_type": "display_data"
        }
      ],
      "source": [
        "# Выполним преобразования: удалим ненужные признаки, переименуем оставшиеся. Полученная таблица пригодится для дальнейших исследований\n",
        "median_salary = df.copy()\n",
        "median_salary = median_salary.drop(['id', 'area_id', 'employer_id'], axis=1)\n",
        "median_salary.columns = ['Название вакансии', 'Ключевые навыки', 'График', 'Опыт работы', 'Занятость', 'ЗП от, руб.', 'ЗП до, руб.', 'Средняя ЗП, руб.', 'Регион']\n",
        "display(median_salary)"
      ]
    },
    {
      "attachments": {},
      "cell_type": "markdown",
      "id": "426c9032",
      "metadata": {},
      "source": [
        "Проведем исследование отношения ключевых навыков и медианной зарплаты"
      ]
    },
    {
      "cell_type": "code",
      "execution_count": 55,
      "id": "8267dd38",
      "metadata": {},
      "outputs": [
        {
          "data": {
            "text/plain": [
              "False    58\n",
              "True      4\n",
              "Name: Ключевые навыки, dtype: int64"
            ]
          },
          "metadata": {},
          "output_type": "display_data"
        },
        {
          "data": {
            "text/plain": [
              "Ключевые навыки\n",
              "4     300000.0\n",
              "14    300000.0\n",
              "3     229397.0\n",
              "2     225000.0\n",
              "16    205000.0\n",
              "5     200000.0\n",
              "12    175346.0\n",
              "8     170000.0\n",
              "6     150000.0\n",
              "7     143500.0\n",
              "10    112500.0\n",
              "9     108563.0\n",
              "11     85000.0\n",
              "Name: Средняя ЗП, руб., dtype: float64"
            ]
          },
          "execution_count": 55,
          "metadata": {},
          "output_type": "execute_result"
        }
      ],
      "source": [
        "# Сформируем дополнительную таблицу для анализа ключевых навыков\n",
        "key_skills = median_salary[['Название вакансии', 'Ключевые навыки', 'Опыт работы', 'Средняя ЗП, руб.']]\n",
        "# Определим записи с пропущенными значениями в признаке \"Ключевые навыки\" и удалим их\n",
        "display((key_skills['Ключевые навыки'].isna()).value_counts())\n",
        "key_skills.dropna(axis=0, subset=['Ключевые навыки'], inplace=True)\n",
        "# Разобъем записи о навыках на массив\n",
        "key_skills['Ключевые навыки'] = key_skills['Ключевые навыки'].apply(lambda x: x.split('\\t'))\n",
        "# Оценим соотношение между количеством ожидаемых навыков и заработной платой\n",
        "key_skills_numeric = key_skills.copy()\n",
        "key_skills_numeric['Ключевые навыки'] = key_skills_numeric['Ключевые навыки'].apply(lambda x: len(x))\n",
        "key_skills_numeric.sort_values(by=['Ключевые навыки', 'Средняя ЗП, руб.'], ascending=False)\n",
        "key_skills_numeric.groupby(by='Ключевые навыки')['Средняя ЗП, руб.'].median().sort_values(ascending=False)"
      ]
    },
    {
      "attachments": {},
      "cell_type": "markdown",
      "id": "f2095012",
      "metadata": {},
      "source": [
        "Следует отметить, что в исследовании участвуют только те вакансии, у которых известен размер ЗП. Становится ясно, что количество навыков не связано с предлагаемой ЗП. Это может быть связано с тем, что величина денежного вознаграждения чаще всего определяется собеседованием."
      ]
    },
    {
      "attachments": {},
      "cell_type": "markdown",
      "id": "595d712f",
      "metadata": {},
      "source": [
        "Попробуем оценить, какие же навыки чаще всего ожидаются от соискателей:"
      ]
    },
    {
      "cell_type": "code",
      "execution_count": 56,
      "id": "6def772d",
      "metadata": {},
      "outputs": [
        {
          "data": {
            "text/html": [
              "<div>\n",
              "<style scoped>\n",
              "    .dataframe tbody tr th:only-of-type {\n",
              "        vertical-align: middle;\n",
              "    }\n",
              "\n",
              "    .dataframe tbody tr th {\n",
              "        vertical-align: top;\n",
              "    }\n",
              "\n",
              "    .dataframe thead th {\n",
              "        text-align: right;\n",
              "    }\n",
              "</style>\n",
              "<table border=\"1\" class=\"dataframe\">\n",
              "  <thead>\n",
              "    <tr style=\"text-align: right;\">\n",
              "      <th></th>\n",
              "      <th>key_skills</th>\n",
              "    </tr>\n",
              "  </thead>\n",
              "  <tbody>\n",
              "    <tr>\n",
              "      <th>0</th>\n",
              "      <td>[Python, SQL, Работа в команде, OpenCV, ML]</td>\n",
              "    </tr>\n",
              "    <tr>\n",
              "      <th>1</th>\n",
              "      <td>[Oracle Pl/SQL, Базы данных, Machine Learning,...</td>\n",
              "    </tr>\n",
              "    <tr>\n",
              "      <th>2</th>\n",
              "      <td>[Python, OpenCV, Tensorflow, Computer Vision, ...</td>\n",
              "    </tr>\n",
              "    <tr>\n",
              "      <th>3</th>\n",
              "      <td>[Python, Flask, Linux, AWS, Git]</td>\n",
              "    </tr>\n",
              "    <tr>\n",
              "      <th>4</th>\n",
              "      <td>[Python, SQL, NLP, Scikit-learn, Machine Learn...</td>\n",
              "    </tr>\n",
              "    <tr>\n",
              "      <th>...</th>\n",
              "      <td>...</td>\n",
              "    </tr>\n",
              "    <tr>\n",
              "      <th>475</th>\n",
              "      <td>[Python, Numpy, PyTorch, Pandas, Математически...</td>\n",
              "    </tr>\n",
              "    <tr>\n",
              "      <th>476</th>\n",
              "      <td>[Python, Scikit-learn, Pandas, Git, Numpy]</td>\n",
              "    </tr>\n",
              "    <tr>\n",
              "      <th>477</th>\n",
              "      <td>[Qt, ООП, C++, MS Visual Studio, Разработка ко...</td>\n",
              "    </tr>\n",
              "    <tr>\n",
              "      <th>478</th>\n",
              "      <td>[SCALA, SQL, Математический анализ, Статистиче...</td>\n",
              "    </tr>\n",
              "    <tr>\n",
              "      <th>479</th>\n",
              "      <td>[Python, Linux, Kubernetes, AWS, Git, People M...</td>\n",
              "    </tr>\n",
              "  </tbody>\n",
              "</table>\n",
              "<p>431 rows × 1 columns</p>\n",
              "</div>"
            ],
            "text/plain": [
              "                                            key_skills\n",
              "0          [Python, SQL, Работа в команде, OpenCV, ML]\n",
              "1    [Oracle Pl/SQL, Базы данных, Machine Learning,...\n",
              "2    [Python, OpenCV, Tensorflow, Computer Vision, ...\n",
              "3                     [Python, Flask, Linux, AWS, Git]\n",
              "4    [Python, SQL, NLP, Scikit-learn, Machine Learn...\n",
              "..                                                 ...\n",
              "475  [Python, Numpy, PyTorch, Pandas, Математически...\n",
              "476         [Python, Scikit-learn, Pandas, Git, Numpy]\n",
              "477  [Qt, ООП, C++, MS Visual Studio, Разработка ко...\n",
              "478  [SCALA, SQL, Математический анализ, Статистиче...\n",
              "479  [Python, Linux, Kubernetes, AWS, Git, People M...\n",
              "\n",
              "[431 rows x 1 columns]"
            ]
          },
          "execution_count": 56,
          "metadata": {},
          "output_type": "execute_result"
        }
      ],
      "source": [
        "# Для этого исследования нам понадобятся все вакансии DS. Запросим их из БД\n",
        "query_add_2 = f'''select v.key_skills\n",
        "                from public.vacancies v\n",
        "                where (\n",
        "                        (\n",
        "                            lower(v.name) like '%data scientist%' \n",
        "                            or lower(v.name) like '%data science%' \n",
        "                            or lower(v.name) like '%исследователь данных%' \n",
        "                            or v.name like '%ML%'\n",
        "                            or lower(v.name) like '%machine learning%'\n",
        "                            or lower(v.name) like '%машинн%обучен%'\n",
        "                        )\n",
        "                    and lower(v.name) not like '%html%'\n",
        "                )\n",
        "'''\n",
        "key_skills_df = pd.read_sql_query(query_add_2, connection)\n",
        "# Как и ранее, очистим новый датасет от пропусков и разделим строку с навыками на массив\n",
        "key_skills_df.dropna(axis=0, inplace=True)\n",
        "key_skills_df['key_skills'] = key_skills_df['key_skills'].apply(lambda x: x.split('\\t'))\n",
        "key_skills_df"
      ]
    },
    {
      "cell_type": "code",
      "execution_count": 57,
      "id": "d2016e24",
      "metadata": {},
      "outputs": [
        {
          "name": "stdout",
          "output_type": "stream",
          "text": [
            "20 самых востребованных ключевых навыков: \n"
          ]
        },
        {
          "data": {
            "text/plain": [
              "[('python', 348),\n",
              " ('sql', 191),\n",
              " ('machine learning', 140),\n",
              " ('git', 66),\n",
              " ('data science', 64),\n",
              " ('математическая статистика', 62),\n",
              " ('pytorch', 61),\n",
              " ('pandas', 55),\n",
              " ('data analysis', 54),\n",
              " ('ml', 49),\n",
              " ('английский язык', 48),\n",
              " ('linux', 47),\n",
              " ('анализ данных', 46),\n",
              " ('tensorflow', 42),\n",
              " ('nlp', 42),\n",
              " ('big data', 42),\n",
              " ('математическое моделирование', 41),\n",
              " ('docker', 41),\n",
              " ('статистический анализ', 40),\n",
              " ('c++', 39)]"
            ]
          },
          "metadata": {},
          "output_type": "display_data"
        },
        {
          "name": "stdout",
          "output_type": "stream",
          "text": [
            "Количество уникальных навыков:  389\n",
            "Всего навыков:  2761\n"
          ]
        }
      ],
      "source": [
        "# Создадим список навыков и заполним его при помощи функции\n",
        "skills_list = []\n",
        "\n",
        "def list_filler(list):\n",
        "    for element in list:\n",
        "        skills_list.append(element.lower())\n",
        "\n",
        "key_skills_df['key_skills'].apply(list_filler)\n",
        "\n",
        "print('20 самых востребованных ключевых навыков: ')\n",
        "display(Counter(skills_list).most_common(20))\n",
        "print('Количество уникальных навыков: ', len(set(skills_list)))\n",
        "print('Всего навыков: ', len(skills_list))"
      ]
    },
    {
      "attachments": {},
      "cell_type": "markdown",
      "id": "3b4485dd",
      "metadata": {},
      "source": [
        "Навык владения Python является самым востребованным и присутствует в 348 из 431 вакансий. Далее SQL и машинное обучение. Также видно наиболее распространенные инструменты и пакеты расширений: Git, PyTorch, TensorFlow, Pandas, Docker.\n",
        "\n",
        "Следует отметить, что данный анализ годится лишь для примерного представления, каких навыков чаще всего ожидают работодатели: ключевые навыки в вакансиях не приналдежат к фиксированному набору значений, а задаются работодателем. Поэтому, например, \"Машинное обучение\" может появиться в этом списке под минимум еще двумя названиями: \"Machine learning\" и \"ML\". Для частичного исправления результата все записи были приведены к одному регистру, но в действительности для рассмотрения этого вопроса требуется куда более тщательное погружение: например, следует создать большой словарь со списками значений вроде {'Машинное обучение' : ['Machine learning', 'ML']}, с опорой на который преобразовывать навыки именно к фиксированному набору, удобному для анализа.\n",
        "\n",
        "Кроме того, размывает результат наличие среди навыков умение пользоваться специализированными инструментами, из-за чего такой навык встречается в вакансиях 1-2 раза. Также некоторые навыки являются либо сложносоставными (несколько навыков в одном), либо неинформативными (например, навык \"data science\" в виду своей чрезвычайно широкой трактовки).\n",
        "\n",
        "Таким образом, анализ требуемых навыков, заданных работодателями, требует отдельной массивной работы."
      ]
    },
    {
      "attachments": {},
      "cell_type": "markdown",
      "id": "8da38cd6",
      "metadata": {},
      "source": [
        "Попробуем выявить уровень средней ЗП в зависимости от опыта по двум направлениям: Data Science и ML"
      ]
    },
    {
      "cell_type": "code",
      "execution_count": 58,
      "id": "491262cc",
      "metadata": {},
      "outputs": [
        {
          "data": {
            "text/html": [
              "<div>\n",
              "<style scoped>\n",
              "    .dataframe tbody tr th:only-of-type {\n",
              "        vertical-align: middle;\n",
              "    }\n",
              "\n",
              "    .dataframe tbody tr th {\n",
              "        vertical-align: top;\n",
              "    }\n",
              "\n",
              "    .dataframe thead th {\n",
              "        text-align: right;\n",
              "    }\n",
              "</style>\n",
              "<table border=\"1\" class=\"dataframe\">\n",
              "  <thead>\n",
              "    <tr style=\"text-align: right;\">\n",
              "      <th></th>\n",
              "      <th>Направление</th>\n",
              "      <th>Опыт</th>\n",
              "      <th>Средняя зп, руб.</th>\n",
              "    </tr>\n",
              "  </thead>\n",
              "  <tbody>\n",
              "    <tr>\n",
              "      <th>0</th>\n",
              "      <td>Data Science</td>\n",
              "      <td>Нет опыта</td>\n",
              "      <td>67917.0</td>\n",
              "    </tr>\n",
              "    <tr>\n",
              "      <th>1</th>\n",
              "      <td>Data Science</td>\n",
              "      <td>От 1 года до 3 лет</td>\n",
              "      <td>151156.0</td>\n",
              "    </tr>\n",
              "    <tr>\n",
              "      <th>2</th>\n",
              "      <td>Data Science</td>\n",
              "      <td>От 3 до 6 лет</td>\n",
              "      <td>258507.0</td>\n",
              "    </tr>\n",
              "    <tr>\n",
              "      <th>3</th>\n",
              "      <td>Machine Learning</td>\n",
              "      <td>Нет опыта</td>\n",
              "      <td>115000.0</td>\n",
              "    </tr>\n",
              "    <tr>\n",
              "      <th>4</th>\n",
              "      <td>Machine Learning</td>\n",
              "      <td>От 1 года до 3 лет</td>\n",
              "      <td>133385.0</td>\n",
              "    </tr>\n",
              "    <tr>\n",
              "      <th>5</th>\n",
              "      <td>Machine Learning</td>\n",
              "      <td>От 3 до 6 лет</td>\n",
              "      <td>246435.0</td>\n",
              "    </tr>\n",
              "  </tbody>\n",
              "</table>\n",
              "</div>"
            ],
            "text/plain": [
              "        Направление                Опыт  Средняя зп, руб.\n",
              "0      Data Science           Нет опыта           67917.0\n",
              "1      Data Science  От 1 года до 3 лет          151156.0\n",
              "2      Data Science       От 3 до 6 лет          258507.0\n",
              "3  Machine Learning           Нет опыта          115000.0\n",
              "4  Machine Learning  От 1 года до 3 лет          133385.0\n",
              "5  Machine Learning       От 3 до 6 лет          246435.0"
            ]
          },
          "execution_count": 58,
          "metadata": {},
          "output_type": "execute_result"
        }
      ],
      "source": [
        "query_add_3 = f'''with ds as (\n",
        "                select *\n",
        "                from public.vacancies v\n",
        "                where (\n",
        "                    lower(v.name) like '%data scientist%' \n",
        "                    or lower(v.name) like '%data science%' \n",
        "                    or lower(v.name) like '%исследователь данных%'\n",
        "                    or v.name like '%ML%'\n",
        "                    or lower(v.name) like '%machine learning%'\n",
        "                    or lower(v.name) like '%машинн%обучен%'\n",
        "                )\n",
        "                and lower(v.name) not like '%html%'\n",
        "            ), result as (\n",
        "                (\n",
        "                    select *, (coalesce(salary_from, 0) + coalesce(salary_to, 0)) / 2 as average_salary\n",
        "                    from ds\n",
        "                    where (salary_from is not null) and (salary_to is not null)\n",
        "                )                    \n",
        "                union all                    \n",
        "                (\n",
        "                    select *, coalesce(salary_from, 0)\n",
        "                    from ds\n",
        "                    where (salary_from is not null) and (salary_to is null)\n",
        "                )                    \n",
        "                union all                    \n",
        "                (\n",
        "                    select *, coalesce(salary_to, 0)\n",
        "                    from ds\n",
        "                    where (salary_from is null) and (salary_to is not null)\n",
        "                )\n",
        "            )\n",
        "            select 'Data Science' Направление, result.experience Опыт, round(avg(average_salary)) \"Средняя зп, руб.\"\n",
        "            from result\n",
        "            where (\n",
        "                lower(name) like '%data scientist%' \n",
        "                or lower(name) like '%data science%' \n",
        "                or lower(name) like '%исследователь данных%'\n",
        "            )\n",
        "            group by result.experience\n",
        "            union all\n",
        "            select 'Machine Learning', result.experience, round(avg(average_salary))\n",
        "            from result\n",
        "            where (\n",
        "                (\n",
        "                    name like '%ML%'\n",
        "                    or lower(name) like '%machine learning%'\n",
        "                    or lower(name) like '%машинн%обучен%'\n",
        "                )\n",
        "                and lower(name) not like '%html%'\n",
        "            )\n",
        "            group by result.experience\n",
        "            order by 1, 2\n",
        "'''\n",
        "ds_ml_salary_df = pd.read_sql_query(query_add_3, connection)\n",
        "ds_ml_salary_df"
      ]
    },
    {
      "attachments": {},
      "cell_type": "markdown",
      "id": "e2965ebc",
      "metadata": {},
      "source": [
        "Судя по результатам, начинающим специалистам в области машинного обучения готовы платить больше существенно, чем дата сайентистам с тем же опытом. Однако далее ситуация меняется, и дата сайентисту с опытом работы от года до трех в среднем предлагают на примерно 20 тысяч больше. Специалисты с опытом работы от трех до шести лет могут рассчитывать примерно на одинаковую ЗП.\n",
        "\n",
        "Выборка, над которой проводились исследования, была небольшой: немногим более 60 вакансий, большинство из которых (примерно 40) - для специалистов по DS. Возможно, разрыв в заработных платах для соискателей без опыта связан с именно с малой выборкой."
      ]
    },
    {
      "cell_type": "code",
      "execution_count": 59,
      "id": "bcd1a852",
      "metadata": {},
      "outputs": [],
      "source": [
        "connection.close()"
      ]
    }
  ],
  "metadata": {
    "colab": {
      "collapsed_sections": [
        "8d62a9f3-f64e-4fe7-bdac-c4dffa16155e"
      ],
      "provenance": []
    },
    "kernelspec": {
      "display_name": "Python 3 (ipykernel)",
      "language": "python",
      "name": "python3"
    },
    "language_info": {
      "codemirror_mode": {
        "name": "ipython",
        "version": 3
      },
      "file_extension": ".py",
      "mimetype": "text/x-python",
      "name": "python",
      "nbconvert_exporter": "python",
      "pygments_lexer": "ipython3",
      "version": "3.11.1"
    }
  },
  "nbformat": 4,
  "nbformat_minor": 5
}
